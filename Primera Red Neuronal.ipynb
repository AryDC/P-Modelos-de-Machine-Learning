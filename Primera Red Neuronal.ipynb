{
 "cells": [
  {
   "cell_type": "code",
   "execution_count": 21,
   "metadata": {},
   "outputs": [],
   "source": [
    "import tensorflow as tf\n",
    "import numpy as np\n",
    "import matplotlib.pyplot as plt\n",
    "import pandas as pd"
   ]
  },
  {
   "cell_type": "code",
   "execution_count": 32,
   "metadata": {},
   "outputs": [
    {
     "data": {
      "image/png": "[encoded data removed]",
      "text/plain": [
       "<Figure size 640x480 with 1 Axes>"
      ]
     },
     "metadata": {},
     "output_type": "display_data"
    }
   ],
   "source": [
    "Celsius = np.linspace(-273.15, 273.15, num = 100000)\n",
    "Farenheit = np.array([((temperatura*1.8)+32) for temperatura in Celsius])\n",
    "visualizacion = pd.DataFrame()\n",
    "visualizacion[\"Celsius\"] = pd.Series(Celsius)\n",
    "visualizacion[\"Farenheit\"] = pd.Series(Farenheit)\n",
    "visualizacion.plot()\n",
    "plt.show()\n"
   ]
  },
  {
   "cell_type": "code",
   "execution_count": 33,
   "metadata": {},
   "outputs": [],
   "source": [
    "capa = tf.keras.layers.Dense(units=1, input_shape = [1])\n",
    "modelo = tf.keras.Sequential([capa])\n",
    "modelo.compile(\n",
    "    optimizer = tf.keras.optimizers.Adam(0.1),\n",
    "    loss = \"mean_squared_error\"\n",
    ")"
   ]
  },
  {
   "cell_type": "code",
   "execution_count": 34,
   "metadata": {},
   "outputs": [
    {
     "name": "stdout",
     "output_type": "stream",
     "text": [
      "Epoch 1/100\n",
      "3125/3125 [==============================] - 6s 2ms/step - loss: 44.3745\n",
      "Epoch 2/100\n",
      "3125/3125 [==============================] - 5s 2ms/step - loss: 0.2456\n",
      "Epoch 3/100\n",
      "3125/3125 [==============================] - 5s 2ms/step - loss: 0.4870\n",
      "Epoch 4/100\n",
      "3125/3125 [==============================] - 5s 2ms/step - loss: 0.3513\n",
      "Epoch 5/100\n",
      "3125/3125 [==============================] - 5s 2ms/step - loss: 0.3624\n",
      "Epoch 6/100\n",
      "3125/3125 [==============================] - 5s 2ms/step - loss: 0.2517\n",
      "Epoch 7/100\n",
      "3125/3125 [==============================] - 5s 2ms/step - loss: 0.3818\n",
      "Epoch 8/100\n",
      "3125/3125 [==============================] - 5s 2ms/step - loss: 0.2743\n",
      "Epoch 9/100\n",
      "3125/3125 [==============================] - 5s 2ms/step - loss: 0.3909\n",
      "Epoch 10/100\n",
      "3125/3125 [==============================] - 5s 2ms/step - loss: 0.3128\n",
      "Epoch 11/100\n",
      "3125/3125 [==============================] - 5s 2ms/step - loss: 0.3523\n",
      "Epoch 12/100\n",
      "3125/3125 [==============================] - 5s 2ms/step - loss: 0.2885\n",
      "Epoch 13/100\n",
      "3125/3125 [==============================] - 5s 2ms/step - loss: 0.3150\n",
      "Epoch 14/100\n",
      "3125/3125 [==============================] - 5s 2ms/step - loss: 0.5047\n",
      "Epoch 15/100\n",
      "3125/3125 [==============================] - 5s 2ms/step - loss: 0.3048\n",
      "Epoch 16/100\n",
      "3125/3125 [==============================] - 5s 2ms/step - loss: 0.3906\n",
      "Epoch 17/100\n",
      "3125/3125 [==============================] - 5s 2ms/step - loss: 0.5070\n",
      "Epoch 18/100\n",
      "3125/3125 [==============================] - 5s 2ms/step - loss: 0.2110\n",
      "Epoch 19/100\n",
      "3125/3125 [==============================] - 5s 2ms/step - loss: 0.5695\n",
      "Epoch 20/100\n",
      "3125/3125 [==============================] - 5s 2ms/step - loss: 0.3795\n",
      "Epoch 21/100\n",
      "3125/3125 [==============================] - 5s 2ms/step - loss: 0.5580\n",
      "Epoch 22/100\n",
      "3125/3125 [==============================] - 5s 2ms/step - loss: 0.3558\n",
      "Epoch 23/100\n",
      "3125/3125 [==============================] - 5s 2ms/step - loss: 0.3961\n",
      "Epoch 24/100\n",
      "3125/3125 [==============================] - 5s 2ms/step - loss: 0.2810\n",
      "Epoch 25/100\n",
      "3125/3125 [==============================] - 5s 2ms/step - loss: 1.0614\n",
      "Epoch 26/100\n",
      "3125/3125 [==============================] - 6s 2ms/step - loss: 0.2980\n",
      "Epoch 27/100\n",
      "3125/3125 [==============================] - 5s 1ms/step - loss: 0.2806\n",
      "Epoch 28/100\n",
      "3125/3125 [==============================] - 5s 2ms/step - loss: 0.4160\n",
      "Epoch 29/100\n",
      "3125/3125 [==============================] - 5s 2ms/step - loss: 0.2653\n",
      "Epoch 30/100\n",
      "3125/3125 [==============================] - 5s 2ms/step - loss: 0.5764\n",
      "Epoch 31/100\n",
      "3125/3125 [==============================] - 5s 2ms/step - loss: 0.3304\n",
      "Epoch 32/100\n",
      "3125/3125 [==============================] - 5s 2ms/step - loss: 0.2507\n",
      "Epoch 33/100\n",
      "3125/3125 [==============================] - 5s 2ms/step - loss: 0.5598\n",
      "Epoch 34/100\n",
      "3125/3125 [==============================] - 5s 2ms/step - loss: 0.5755\n",
      "Epoch 35/100\n",
      "3125/3125 [==============================] - 6s 2ms/step - loss: 0.8084\n",
      "Epoch 36/100\n",
      "3125/3125 [==============================] - 5s 2ms/step - loss: 0.2619\n",
      "Epoch 37/100\n",
      "3125/3125 [==============================] - 5s 2ms/step - loss: 0.3307\n",
      "Epoch 38/100\n",
      "3125/3125 [==============================] - 5s 2ms/step - loss: 0.5066\n",
      "Epoch 39/100\n",
      "3125/3125 [==============================] - 6s 2ms/step - loss: 0.3437\n",
      "Epoch 40/100\n",
      "3125/3125 [==============================] - 6s 2ms/step - loss: 0.3430\n",
      "Epoch 41/100\n",
      "3125/3125 [==============================] - 4s 1ms/step - loss: 0.8520\n",
      "Epoch 42/100\n",
      "3125/3125 [==============================] - 5s 2ms/step - loss: 0.2788\n",
      "Epoch 43/100\n",
      "3125/3125 [==============================] - 5s 2ms/step - loss: 0.4098\n",
      "Epoch 44/100\n",
      "3125/3125 [==============================] - 5s 2ms/step - loss: 0.3864\n",
      "Epoch 45/100\n",
      "3125/3125 [==============================] - 5s 2ms/step - loss: 0.3095\n",
      "Epoch 46/100\n",
      "3125/3125 [==============================] - 5s 2ms/step - loss: 0.4203\n",
      "Epoch 47/100\n",
      "3125/3125 [==============================] - 5s 2ms/step - loss: 0.4979\n",
      "Epoch 48/100\n",
      "3125/3125 [==============================] - 5s 2ms/step - loss: 0.3189\n",
      "Epoch 49/100\n",
      "3125/3125 [==============================] - 6s 2ms/step - loss: 0.3578\n",
      "Epoch 50/100\n",
      "3125/3125 [==============================] - 5s 2ms/step - loss: 0.4108\n",
      "Epoch 51/100\n",
      "3125/3125 [==============================] - 4s 1ms/step - loss: 0.3813\n",
      "Epoch 52/100\n",
      "3125/3125 [==============================] - 5s 2ms/step - loss: 0.4379\n",
      "Epoch 53/100\n",
      "3125/3125 [==============================] - 5s 2ms/step - loss: 0.6328\n",
      "Epoch 54/100\n",
      "3125/3125 [==============================] - 6s 2ms/step - loss: 0.2380\n",
      "Epoch 55/100\n",
      "3125/3125 [==============================] - 5s 2ms/step - loss: 0.5693\n",
      "Epoch 56/100\n",
      "3125/3125 [==============================] - 5s 2ms/step - loss: 0.2421\n",
      "Epoch 57/100\n",
      "3125/3125 [==============================] - 5s 2ms/step - loss: 0.3588\n",
      "Epoch 58/100\n",
      "3125/3125 [==============================] - 5s 2ms/step - loss: 0.2699\n",
      "Epoch 59/100\n",
      "3125/3125 [==============================] - 5s 2ms/step - loss: 0.3527\n",
      "Epoch 60/100\n",
      "3125/3125 [==============================] - 6s 2ms/step - loss: 0.3481\n",
      "Epoch 61/100\n",
      "3125/3125 [==============================] - 5s 2ms/step - loss: 0.3503\n",
      "Epoch 62/100\n",
      "3125/3125 [==============================] - 5s 2ms/step - loss: 0.3863\n",
      "Epoch 63/100\n",
      "3125/3125 [==============================] - 4s 1ms/step - loss: 0.3845\n",
      "Epoch 64/100\n",
      "3125/3125 [==============================] - 5s 2ms/step - loss: 0.5539\n",
      "Epoch 65/100\n",
      "3125/3125 [==============================] - 5s 2ms/step - loss: 0.2282\n",
      "Epoch 66/100\n",
      "3125/3125 [==============================] - 5s 2ms/step - loss: 0.4642\n",
      "Epoch 67/100\n",
      "3125/3125 [==============================] - 5s 2ms/step - loss: 0.2923\n",
      "Epoch 68/100\n",
      "3125/3125 [==============================] - 5s 2ms/step - loss: 0.6272\n",
      "Epoch 69/100\n",
      "3125/3125 [==============================] - 4s 1ms/step - loss: 0.2943\n",
      "Epoch 70/100\n",
      "3125/3125 [==============================] - 5s 2ms/step - loss: 0.4287\n",
      "Epoch 71/100\n",
      "3125/3125 [==============================] - 5s 2ms/step - loss: 0.4419\n",
      "Epoch 72/100\n",
      "3125/3125 [==============================] - 5s 2ms/step - loss: 0.2959\n",
      "Epoch 73/100\n",
      "3125/3125 [==============================] - 5s 2ms/step - loss: 0.4574\n",
      "Epoch 74/100\n",
      "3125/3125 [==============================] - 5s 2ms/step - loss: 0.2640\n",
      "Epoch 75/100\n",
      "3125/3125 [==============================] - 5s 2ms/step - loss: 0.4999\n",
      "Epoch 76/100\n",
      "3125/3125 [==============================] - 4s 1ms/step - loss: 0.4855\n",
      "Epoch 77/100\n",
      "3125/3125 [==============================] - 5s 2ms/step - loss: 0.5262\n",
      "Epoch 78/100\n",
      "3125/3125 [==============================] - 5s 2ms/step - loss: 0.2964\n",
      "Epoch 79/100\n",
      "3125/3125 [==============================] - 5s 2ms/step - loss: 0.3031\n",
      "Epoch 80/100\n",
      "3125/3125 [==============================] - 5s 2ms/step - loss: 0.3894\n",
      "Epoch 81/100\n",
      "3125/3125 [==============================] - 5s 2ms/step - loss: 0.2475\n",
      "Epoch 82/100\n",
      "3125/3125 [==============================] - 5s 2ms/step - loss: 0.4844\n",
      "Epoch 83/100\n",
      "3125/3125 [==============================] - 5s 2ms/step - loss: 0.4168\n",
      "Epoch 84/100\n",
      "3125/3125 [==============================] - 5s 2ms/step - loss: 0.2146\n",
      "Epoch 85/100\n",
      "3125/3125 [==============================] - 5s 2ms/step - loss: 0.3678\n",
      "Epoch 86/100\n",
      "3125/3125 [==============================] - 5s 2ms/step - loss: 0.3397\n",
      "Epoch 87/100\n",
      "3125/3125 [==============================] - 5s 2ms/step - loss: 0.3272\n",
      "Epoch 88/100\n",
      "3125/3125 [==============================] - 5s 2ms/step - loss: 0.3925\n",
      "Epoch 89/100\n",
      "3125/3125 [==============================] - 5s 2ms/step - loss: 0.3282\n",
      "Epoch 90/100\n",
      "3125/3125 [==============================] - 5s 2ms/step - loss: 0.3724\n",
      "Epoch 91/100\n",
      "3125/3125 [==============================] - 5s 2ms/step - loss: 0.4475\n",
      "Epoch 92/100\n",
      "3125/3125 [==============================] - 5s 2ms/step - loss: 0.6511\n",
      "Epoch 93/100\n",
      "3125/3125 [==============================] - 5s 2ms/step - loss: 0.3723\n",
      "Epoch 94/100\n",
      "3125/3125 [==============================] - 5s 2ms/step - loss: 0.4973\n",
      "Epoch 95/100\n",
      "3125/3125 [==============================] - 5s 2ms/step - loss: 0.2542\n",
      "Epoch 96/100\n",
      "3125/3125 [==============================] - 5s 2ms/step - loss: 0.5473\n",
      "Epoch 97/100\n",
      "3125/3125 [==============================] - 5s 2ms/step - loss: 0.5753\n",
      "Epoch 98/100\n",
      "3125/3125 [==============================] - 5s 2ms/step - loss: 0.3387\n",
      "Epoch 99/100\n",
      "3125/3125 [==============================] - 5s 2ms/step - loss: 0.4361\n",
      "Epoch 100/100\n",
      "3125/3125 [==============================] - 5s 2ms/step - loss: 0.3082\n"
     ]
    }
   ],
   "source": [
    "vueltas = modelo.fit(Celsius, Farenheit, epochs=100)"
   ]
  },
  {
   "cell_type": "code",
   "execution_count": 35,
   "metadata": {},
   "outputs": [
    {
     "data": {
      "text/plain": [
       "Text(0, 0.5, 'Funcion de Perdida')"
      ]
     },
     "execution_count": 35,
     "metadata": {},
     "output_type": "execute_result"
    },
    {
     "data": {
      "image/png": "[encoded data removed]",
      "text/plain": [
       "<Figure size 640x480 with 1 Axes>"
      ]
     },
     "metadata": {},
     "output_type": "display_data"
    }
   ],
   "source": [
    "plt.plot(vueltas.history[\"loss\"])\n",
    "plt.xlabel(\"N° Vueltas\")\n",
    "plt.ylabel(\"Funcion de Perdida\")"
   ]
  },
  {
   "cell_type": "code",
   "execution_count": 36,
   "metadata": {},
   "outputs": [
    {
     "name": "stdout",
     "output_type": "stream",
     "text": [
      "1/1 [==============================] - 0s 124ms/step\n",
      "[[68.00001]] Farenheits\n"
     ]
    }
   ],
   "source": [
    "resultado = modelo.predict([20])\n",
    "print(f\"{resultado} Farenheits\")"
   ]
  },
  {
   "cell_type": "code",
   "execution_count": 37,
   "metadata": {},
   "outputs": [
    {
     "name": "stdout",
     "output_type": "stream",
     "text": [
      "Caracteristicas del Modelo: \n",
      "[array([[1.7999798]], dtype=float32), array([32.000412], dtype=float32)]\n"
     ]
    }
   ],
   "source": [
    "print(\"Caracteristicas del Modelo: \")\n",
    "print(capa.get_weights())"
   ]
  },
  {
   "cell_type": "markdown",
   "metadata": {},
   "source": [
    "\n",
    "## <span style=\"color:white\">¿Cual es la Funcion Inversa de Celcius -> Farenheit? </span>"
   ]
  },
  {
   "cell_type": "code",
   "execution_count": 43,
   "metadata": {},
   "outputs": [],
   "source": [
    "capa = tf.keras.layers.Dense(units=1, input_shape = [1])\n",
    "modelo = tf.keras.Sequential([capa])\n",
    "modelo.compile(\n",
    "    optimizer = tf.keras.optimizers.Adam(0.1),\n",
    "    loss = \"mean_squared_error\"\n",
    ")"
   ]
  },
  {
   "cell_type": "code",
   "execution_count": 44,
   "metadata": {},
   "outputs": [
    {
     "name": "stdout",
     "output_type": "stream",
     "text": [
      "Epoch 1/100\n",
      "3125/3125 [==============================] - 6s 2ms/step - loss: 201.9764\n",
      "Epoch 2/100\n",
      "3125/3125 [==============================] - 6s 2ms/step - loss: 5.1252e-10\n",
      "Epoch 3/100\n",
      "3125/3125 [==============================] - 5s 2ms/step - loss: 1.3615\n",
      "Epoch 4/100\n",
      "3125/3125 [==============================] - 5s 2ms/step - loss: 1.0098\n",
      "Epoch 5/100\n",
      "3125/3125 [==============================] - 5s 2ms/step - loss: 1.6714\n",
      "Epoch 6/100\n",
      "3125/3125 [==============================] - 5s 2ms/step - loss: 0.8087\n",
      "Epoch 7/100\n",
      "3125/3125 [==============================] - 5s 2ms/step - loss: 1.3329\n",
      "Epoch 8/100\n",
      "3125/3125 [==============================] - 5s 2ms/step - loss: 0.9918\n",
      "Epoch 9/100\n",
      "3125/3125 [==============================] - 6s 2ms/step - loss: 2.1346\n",
      "Epoch 10/100\n",
      "3125/3125 [==============================] - 6s 2ms/step - loss: 0.6114\n",
      "Epoch 11/100\n",
      "3125/3125 [==============================] - 4s 1ms/step - loss: 1.5929\n",
      "Epoch 12/100\n",
      "3125/3125 [==============================] - 5s 2ms/step - loss: 2.0856\n",
      "Epoch 13/100\n",
      "3125/3125 [==============================] - 6s 2ms/step - loss: 0.9025\n",
      "Epoch 14/100\n",
      "3125/3125 [==============================] - 5s 2ms/step - loss: 0.9082\n",
      "Epoch 15/100\n",
      "3125/3125 [==============================] - 8s 3ms/step - loss: 2.6561\n",
      "Epoch 16/100\n",
      "3125/3125 [==============================] - 5s 2ms/step - loss: 0.8488\n",
      "Epoch 17/100\n",
      "3125/3125 [==============================] - 4s 1ms/step - loss: 1.3536\n",
      "Epoch 18/100\n",
      "3125/3125 [==============================] - 5s 2ms/step - loss: 2.3456\n",
      "Epoch 19/100\n",
      "3125/3125 [==============================] - 6s 2ms/step - loss: 0.7568\n",
      "Epoch 20/100\n",
      "3125/3125 [==============================] - 5s 2ms/step - loss: 1.1773\n",
      "Epoch 21/100\n",
      "3125/3125 [==============================] - 5s 2ms/step - loss: 1.0204\n",
      "Epoch 22/100\n",
      "3125/3125 [==============================] - 5s 2ms/step - loss: 1.5431\n",
      "Epoch 23/100\n",
      "3125/3125 [==============================] - 5s 2ms/step - loss: 1.2114\n",
      "Epoch 24/100\n",
      "3125/3125 [==============================] - 5s 2ms/step - loss: 1.5764\n",
      "Epoch 25/100\n",
      "3125/3125 [==============================] - 5s 2ms/step - loss: 0.7999\n",
      "Epoch 26/100\n",
      "3125/3125 [==============================] - 5s 2ms/step - loss: 2.1167\n",
      "Epoch 27/100\n",
      "3125/3125 [==============================] - 5s 2ms/step - loss: 0.9072\n",
      "Epoch 28/100\n",
      "3125/3125 [==============================] - 5s 2ms/step - loss: 1.5235\n",
      "Epoch 29/100\n",
      "3125/3125 [==============================] - 5s 2ms/step - loss: 0.9975\n",
      "Epoch 30/100\n",
      "3125/3125 [==============================] - 5s 2ms/step - loss: 1.6313\n",
      "Epoch 31/100\n",
      "3125/3125 [==============================] - 5s 2ms/step - loss: 1.0284\n",
      "Epoch 32/100\n",
      "3125/3125 [==============================] - 5s 2ms/step - loss: 1.4822\n",
      "Epoch 33/100\n",
      "3125/3125 [==============================] - 5s 2ms/step - loss: 1.3783\n",
      "Epoch 34/100\n",
      "3125/3125 [==============================] - 5s 2ms/step - loss: 1.3820\n",
      "Epoch 35/100\n",
      "3125/3125 [==============================] - 5s 2ms/step - loss: 2.9774\n",
      "Epoch 36/100\n",
      "3125/3125 [==============================] - 6s 2ms/step - loss: 1.2463\n",
      "Epoch 37/100\n",
      "3125/3125 [==============================] - 5s 2ms/step - loss: 0.5759\n",
      "Epoch 38/100\n",
      "3125/3125 [==============================] - 4s 1ms/step - loss: 1.5742\n",
      "Epoch 39/100\n",
      "3125/3125 [==============================] - 5s 2ms/step - loss: 0.8540\n",
      "Epoch 40/100\n",
      "3125/3125 [==============================] - 5s 2ms/step - loss: 1.9872\n",
      "Epoch 41/100\n",
      "3125/3125 [==============================] - 5s 2ms/step - loss: 1.0203\n",
      "Epoch 42/100\n",
      "3125/3125 [==============================] - 5s 2ms/step - loss: 1.3738\n",
      "Epoch 43/100\n",
      "3125/3125 [==============================] - 5s 2ms/step - loss: 0.8678\n",
      "Epoch 44/100\n",
      "3125/3125 [==============================] - 5s 2ms/step - loss: 1.3200\n",
      "Epoch 45/100\n",
      "3125/3125 [==============================] - 5s 2ms/step - loss: 1.0514\n",
      "Epoch 46/100\n",
      "3125/3125 [==============================] - 5s 2ms/step - loss: 1.5129\n",
      "Epoch 47/100\n",
      "3125/3125 [==============================] - 5s 2ms/step - loss: 1.1642\n",
      "Epoch 48/100\n",
      "3125/3125 [==============================] - 5s 2ms/step - loss: 1.3392\n",
      "Epoch 49/100\n",
      "3125/3125 [==============================] - 5s 2ms/step - loss: 1.7214\n",
      "Epoch 50/100\n",
      "3125/3125 [==============================] - 5s 2ms/step - loss: 1.6295\n",
      "Epoch 51/100\n",
      "3125/3125 [==============================] - 5s 2ms/step - loss: 1.9325\n",
      "Epoch 52/100\n",
      "3125/3125 [==============================] - 5s 2ms/step - loss: 1.5627\n",
      "Epoch 53/100\n",
      "3125/3125 [==============================] - 5s 2ms/step - loss: 0.9899\n",
      "Epoch 54/100\n",
      "3125/3125 [==============================] - 5s 2ms/step - loss: 1.4337\n",
      "Epoch 55/100\n",
      "3125/3125 [==============================] - 5s 2ms/step - loss: 0.9764\n",
      "Epoch 56/100\n",
      "3125/3125 [==============================] - 5s 2ms/step - loss: 1.7193\n",
      "Epoch 57/100\n",
      "3125/3125 [==============================] - 5s 2ms/step - loss: 1.3159\n",
      "Epoch 58/100\n",
      "3125/3125 [==============================] - 5s 2ms/step - loss: 1.0152\n",
      "Epoch 59/100\n",
      "3125/3125 [==============================] - 5s 2ms/step - loss: 0.9588\n",
      "Epoch 60/100\n",
      "3125/3125 [==============================] - 5s 2ms/step - loss: 1.7616\n",
      "Epoch 61/100\n",
      "3125/3125 [==============================] - 5s 2ms/step - loss: 0.9185\n",
      "Epoch 62/100\n",
      "3125/3125 [==============================] - 5s 2ms/step - loss: 0.9710\n",
      "Epoch 63/100\n",
      "3125/3125 [==============================] - 5s 2ms/step - loss: 1.3545\n",
      "Epoch 64/100\n",
      "3125/3125 [==============================] - 5s 2ms/step - loss: 1.4468\n",
      "Epoch 65/100\n",
      "3125/3125 [==============================] - 5s 2ms/step - loss: 2.7462\n",
      "Epoch 66/100\n",
      "3125/3125 [==============================] - 5s 2ms/step - loss: 0.9788\n",
      "Epoch 67/100\n",
      "3125/3125 [==============================] - 5s 2ms/step - loss: 0.7677\n",
      "Epoch 68/100\n",
      "3125/3125 [==============================] - 5s 2ms/step - loss: 1.7390\n",
      "Epoch 69/100\n",
      "3125/3125 [==============================] - 5s 2ms/step - loss: 1.4220\n",
      "Epoch 70/100\n",
      "3125/3125 [==============================] - 5s 2ms/step - loss: 2.3323\n",
      "Epoch 71/100\n",
      "3125/3125 [==============================] - 5s 2ms/step - loss: 0.8967\n",
      "Epoch 72/100\n",
      "3125/3125 [==============================] - 5s 2ms/step - loss: 1.2970\n",
      "Epoch 73/100\n",
      "3125/3125 [==============================] - 5s 2ms/step - loss: 1.1424\n",
      "Epoch 74/100\n",
      "3125/3125 [==============================] - 5s 2ms/step - loss: 1.6652\n",
      "Epoch 75/100\n",
      "3125/3125 [==============================] - 5s 2ms/step - loss: 1.5985\n",
      "Epoch 76/100\n",
      "3125/3125 [==============================] - 5s 2ms/step - loss: 0.5838\n",
      "Epoch 77/100\n",
      "3125/3125 [==============================] - 6s 2ms/step - loss: 1.0333\n",
      "Epoch 78/100\n",
      "3125/3125 [==============================] - 6s 2ms/step - loss: 2.8306\n",
      "Epoch 79/100\n",
      "3125/3125 [==============================] - 5s 2ms/step - loss: 0.6492\n",
      "Epoch 80/100\n",
      "3125/3125 [==============================] - 6s 2ms/step - loss: 1.0361\n",
      "Epoch 81/100\n",
      "3125/3125 [==============================] - 5s 1ms/step - loss: 1.1411\n",
      "Epoch 82/100\n",
      "3125/3125 [==============================] - 4s 1ms/step - loss: 1.3010\n",
      "Epoch 83/100\n",
      "3125/3125 [==============================] - 5s 2ms/step - loss: 1.4165\n",
      "Epoch 84/100\n",
      "3125/3125 [==============================] - 5s 2ms/step - loss: 1.9316\n",
      "Epoch 85/100\n",
      "3125/3125 [==============================] - 6s 2ms/step - loss: 1.1999\n",
      "Epoch 86/100\n",
      "3125/3125 [==============================] - 5s 2ms/step - loss: 0.9465\n",
      "Epoch 87/100\n",
      "3125/3125 [==============================] - 4s 1ms/step - loss: 1.4459\n",
      "Epoch 88/100\n",
      "3125/3125 [==============================] - 5s 2ms/step - loss: 1.6119\n",
      "Epoch 89/100\n",
      "3125/3125 [==============================] - 5s 2ms/step - loss: 1.0670\n",
      "Epoch 90/100\n",
      "3125/3125 [==============================] - 5s 2ms/step - loss: 0.9592\n",
      "Epoch 91/100\n",
      "3125/3125 [==============================] - 5s 2ms/step - loss: 1.0414\n",
      "Epoch 92/100\n",
      "3125/3125 [==============================] - 5s 2ms/step - loss: 1.0238\n",
      "Epoch 93/100\n",
      "3125/3125 [==============================] - 4s 1ms/step - loss: 1.7900\n",
      "Epoch 94/100\n",
      "3125/3125 [==============================] - 5s 2ms/step - loss: 1.4367\n",
      "Epoch 95/100\n",
      "3125/3125 [==============================] - 5s 2ms/step - loss: 1.2498\n",
      "Epoch 96/100\n",
      "3125/3125 [==============================] - 4s 1ms/step - loss: 1.4274\n",
      "Epoch 97/100\n",
      "3125/3125 [==============================] - 4s 1ms/step - loss: 1.4545\n",
      "Epoch 98/100\n",
      "3125/3125 [==============================] - 6s 2ms/step - loss: 1.3151\n",
      "Epoch 99/100\n",
      "3125/3125 [==============================] - 4s 1ms/step - loss: 1.1195\n",
      "Epoch 100/100\n",
      "3125/3125 [==============================] - 4s 1ms/step - loss: 1.1758\n"
     ]
    }
   ],
   "source": [
    "Vueltas_invertidas = modelo.fit(Farenheit, Celsius, epochs=100)"
   ]
  },
  {
   "cell_type": "code",
   "execution_count": 45,
   "metadata": {},
   "outputs": [
    {
     "data": {
      "text/plain": [
       "Text(0, 0.5, 'Funcion de Perdida')"
      ]
     },
     "execution_count": 45,
     "metadata": {},
     "output_type": "execute_result"
    },
    {
     "data": {
      "image/png": "[encoded data removed]",
      "text/plain": [
       "<Figure size 640x480 with 1 Axes>"
      ]
     },
     "metadata": {},
     "output_type": "display_data"
    }
   ],
   "source": [
    "plt.plot(Vueltas_invertidas.history[\"loss\"])\n",
    "plt.xlabel(\"N° Vueltas\")\n",
    "plt.ylabel(\"Funcion de Perdida\")"
   ]
  },
  {
   "cell_type": "code",
   "execution_count": 54,
   "metadata": {},
   "outputs": [
    {
     "name": "stdout",
     "output_type": "stream",
     "text": [
      "1/1 [==============================] - 0s 71ms/step\n",
      "[[-6.666669]] Celsius\n"
     ]
    }
   ],
   "source": [
    "resultado_i = modelo.predict([20])\n",
    "print(f\"{resultado_i} Celsius\")"
   ]
  },
  {
   "cell_type": "code",
   "execution_count": 53,
   "metadata": {},
   "outputs": [
    {
     "name": "stdout",
     "output_type": "stream",
     "text": [
      "Caracteristicas del Modelo: \n",
      "[array([[0.5555556]], dtype=float32), array([-17.77778], dtype=float32)]\n"
     ]
    }
   ],
   "source": [
    "print(\"Caracteristicas del Modelo: \")\n",
    "print(capa.get_weights())"
   ]
  }
 ],
 "metadata": {
  "kernelspec": {
   "display_name": "Python 3.9.13 ('base')",
   "language": "python",
   "name": "python3"
  },
  "language_info": {
   "codemirror_mode": {
    "name": "ipython",
    "version": 3
   },
   "file_extension": ".py",
   "mimetype": "text/x-python",
   "name": "python",
   "nbconvert_exporter": "python",
   "pygments_lexer": "ipython3",
   "version": "3.9.13"
  },
  "orig_nbformat": 4,
  "vscode": {
   "interpreter": {
    "hash": "25e0de500079dc252838d6e696e564eabacb06505544a77d71b129d63badb085"
   }
  }
 },
 "nbformat": 4,
 "nbformat_minor": 2
}
