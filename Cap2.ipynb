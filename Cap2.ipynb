{
 "cells": [
  {
   "cell_type": "markdown",
   "metadata": {},
   "source": [
    "# Capitulo 2. Proyecto de Machine Learning"
   ]
  },
  {
   "cell_type": "markdown",
   "metadata": {},
   "source": [
    "👀: verifica que si hayas instalado las librerías que vas a necesitar"
   ]
  },
  {
   "cell_type": "markdown",
   "metadata": {},
   "source": [
    "En este caso se realizará un modelo para predecir la media de precios en las viviendas de los diferentes municipos de Londres, Reino Unido 🇬🇧."
   ]
  },
  {
   "cell_type": "markdown",
   "metadata": {},
   "source": [
    "## <span style=\"color:green\">1. Descargar los datos</span>"
   ]
  },
  {
   "cell_type": "markdown",
   "metadata": {},
   "source": [
    "Las bases de datos para este proyecto se puede encontrar en este enlace: https://www.kaggle.com/justinas/housing-in-london\n",
    "\n",
    "También se pueden consultar todas las bases de datos de este curso en GitHub:https://github.com/a2Proyectos/MachineLearning_Data\n",
    "\n",
    "- housing_in_london_yearly_variables.csv, con los datos que necesitamos para hacer la regresión.\n",
    "- London_Borough_Excluding_MHW.shp, con los datos que necesitamos para graficar Londres.\n",
    "- Capitulo_2/housing_in_london_monthly_variables.csv, con los datos de la media salarial"
   ]
  },
  {
   "cell_type": "code",
   "execution_count": 71,
   "metadata": {},
   "outputs": [],
   "source": [
    "## Importamos nuestras librerias principales panda, numpy, matplotlib, os \n",
    "import pandas as pd\n",
    "import numpy as np\n",
    "import matplotlib.pyplot as plt\n",
    "import os"
   ]
  },
  {
   "cell_type": "code",
   "execution_count": 72,
   "metadata": {},
   "outputs": [],
   "source": [
    "## Definimos una función para extraer datos.\n",
    "#DOWNLOAD_ROOT es la base del GitHub donde vamos a estar descargando las bases de datos.\n",
    "DOWNLOAD_ROOT = \"https://raw.githubusercontent.com/a2Proyectos/MachineLearning_Data/main/\"\n",
    "#Complementos con la dirección especifica de la base de datos que queremos.\n",
    "LONDON_SALARY = \"Capitulo_2/housing_in_london_yearly_variables.csv\"\n",
    "LONDON_HOUSING = \"Capitulo_2/housing_in_london_monthly_variables.csv\"\n",
    "LONDON_MAP = os.path.abspath(\"\") + \"\\map\\London_Borough_Excluding_MHW.shp\"\n",
    "\n",
    "\n",
    "def extraer_datos(root,database):\n",
    "    csv_path = root + database\n",
    "    return pd.read_csv(csv_path)\n"
   ]
  },
  {
   "cell_type": "markdown",
   "metadata": {},
   "source": [
    "***"
   ]
  },
  {
   "cell_type": "markdown",
   "metadata": {},
   "source": [
    "## <span style=\"color:green\">2. Vistazo a la Base de Datos</span>"
   ]
  },
  {
   "cell_type": "code",
   "execution_count": 73,
   "metadata": {},
   "outputs": [
    {
     "data": {
      "text/html": [
       "<div>\n",
       "<style scoped>\n",
       "    .dataframe tbody tr th:only-of-type {\n",
       "        vertical-align: middle;\n",
       "    }\n",
       "\n",
       "    .dataframe tbody tr th {\n",
       "        vertical-align: top;\n",
       "    }\n",
       "\n",
       "    .dataframe thead th {\n",
       "        text-align: right;\n",
       "    }\n",
       "</style>\n",
       "<table border=\"1\" class=\"dataframe\">\n",
       "  <thead>\n",
       "    <tr style=\"text-align: right;\">\n",
       "      <th></th>\n",
       "      <th>code</th>\n",
       "      <th>area</th>\n",
       "      <th>date</th>\n",
       "      <th>median_salary</th>\n",
       "      <th>life_satisfaction</th>\n",
       "      <th>mean_salary</th>\n",
       "      <th>recycling_pct</th>\n",
       "      <th>population_size</th>\n",
       "      <th>number_of_jobs</th>\n",
       "      <th>area_size</th>\n",
       "      <th>no_of_houses</th>\n",
       "      <th>borough_flag</th>\n",
       "    </tr>\n",
       "  </thead>\n",
       "  <tbody>\n",
       "    <tr>\n",
       "      <th>0</th>\n",
       "      <td>E09000001</td>\n",
       "      <td>city of london</td>\n",
       "      <td>1999-12-01</td>\n",
       "      <td>33,020.00</td>\n",
       "      <td>NaN</td>\n",
       "      <td>48922</td>\n",
       "      <td>0</td>\n",
       "      <td>6,581.00</td>\n",
       "      <td>NaN</td>\n",
       "      <td>NaN</td>\n",
       "      <td>NaN</td>\n",
       "      <td>1</td>\n",
       "    </tr>\n",
       "    <tr>\n",
       "      <th>1</th>\n",
       "      <td>E09000002</td>\n",
       "      <td>barking and dagenham</td>\n",
       "      <td>1999-12-01</td>\n",
       "      <td>21,480.00</td>\n",
       "      <td>NaN</td>\n",
       "      <td>23620</td>\n",
       "      <td>3</td>\n",
       "      <td>162,444.00</td>\n",
       "      <td>NaN</td>\n",
       "      <td>NaN</td>\n",
       "      <td>NaN</td>\n",
       "      <td>1</td>\n",
       "    </tr>\n",
       "    <tr>\n",
       "      <th>2</th>\n",
       "      <td>E09000003</td>\n",
       "      <td>barnet</td>\n",
       "      <td>1999-12-01</td>\n",
       "      <td>19,568.00</td>\n",
       "      <td>NaN</td>\n",
       "      <td>23128</td>\n",
       "      <td>8</td>\n",
       "      <td>313,469.00</td>\n",
       "      <td>NaN</td>\n",
       "      <td>NaN</td>\n",
       "      <td>NaN</td>\n",
       "      <td>1</td>\n",
       "    </tr>\n",
       "    <tr>\n",
       "      <th>3</th>\n",
       "      <td>E09000004</td>\n",
       "      <td>bexley</td>\n",
       "      <td>1999-12-01</td>\n",
       "      <td>18,621.00</td>\n",
       "      <td>NaN</td>\n",
       "      <td>21386</td>\n",
       "      <td>18</td>\n",
       "      <td>217,458.00</td>\n",
       "      <td>NaN</td>\n",
       "      <td>NaN</td>\n",
       "      <td>NaN</td>\n",
       "      <td>1</td>\n",
       "    </tr>\n",
       "    <tr>\n",
       "      <th>4</th>\n",
       "      <td>E09000005</td>\n",
       "      <td>brent</td>\n",
       "      <td>1999-12-01</td>\n",
       "      <td>18,532.00</td>\n",
       "      <td>NaN</td>\n",
       "      <td>20911</td>\n",
       "      <td>6</td>\n",
       "      <td>260,317.00</td>\n",
       "      <td>NaN</td>\n",
       "      <td>NaN</td>\n",
       "      <td>NaN</td>\n",
       "      <td>1</td>\n",
       "    </tr>\n",
       "  </tbody>\n",
       "</table>\n",
       "</div>"
      ],
      "text/plain": [
       "        code                  area        date  median_salary  \\\n",
       "0  E09000001        city of london  1999-12-01      33,020.00   \n",
       "1  E09000002  barking and dagenham  1999-12-01      21,480.00   \n",
       "2  E09000003                barnet  1999-12-01      19,568.00   \n",
       "3  E09000004                bexley  1999-12-01      18,621.00   \n",
       "4  E09000005                 brent  1999-12-01      18,532.00   \n",
       "\n",
       "   life_satisfaction mean_salary recycling_pct  population_size  \\\n",
       "0                NaN       48922             0         6,581.00   \n",
       "1                NaN       23620             3       162,444.00   \n",
       "2                NaN       23128             8       313,469.00   \n",
       "3                NaN       21386            18       217,458.00   \n",
       "4                NaN       20911             6       260,317.00   \n",
       "\n",
       "   number_of_jobs  area_size  no_of_houses  borough_flag  \n",
       "0             NaN        NaN           NaN             1  \n",
       "1             NaN        NaN           NaN             1  \n",
       "2             NaN        NaN           NaN             1  \n",
       "3             NaN        NaN           NaN             1  \n",
       "4             NaN        NaN           NaN             1  "
      ]
     },
     "execution_count": 73,
     "metadata": {},
     "output_type": "execute_result"
    }
   ],
   "source": [
    "## Juntamos nuestra base de datos de la media salarial, con la de datos de Londres.\n",
    "df1 = extraer_datos(DOWNLOAD_ROOT, LONDON_SALARY)\n",
    "df2 = extraer_datos(DOWNLOAD_ROOT, LONDON_HOUSING)\n",
    "df1.head()"
   ]
  },
  {
   "cell_type": "code",
   "execution_count": 74,
   "metadata": {},
   "outputs": [
    {
     "data": {
      "text/html": [
       "<div>\n",
       "<style scoped>\n",
       "    .dataframe tbody tr th:only-of-type {\n",
       "        vertical-align: middle;\n",
       "    }\n",
       "\n",
       "    .dataframe tbody tr th {\n",
       "        vertical-align: top;\n",
       "    }\n",
       "\n",
       "    .dataframe thead th {\n",
       "        text-align: right;\n",
       "    }\n",
       "</style>\n",
       "<table border=\"1\" class=\"dataframe\">\n",
       "  <thead>\n",
       "    <tr style=\"text-align: right;\">\n",
       "      <th></th>\n",
       "      <th>median_salary</th>\n",
       "      <th>area</th>\n",
       "      <th>date</th>\n",
       "    </tr>\n",
       "  </thead>\n",
       "  <tbody>\n",
       "    <tr>\n",
       "      <th>0</th>\n",
       "      <td>33,020.00</td>\n",
       "      <td>city of london</td>\n",
       "      <td>1999-12-01</td>\n",
       "    </tr>\n",
       "    <tr>\n",
       "      <th>1</th>\n",
       "      <td>21,480.00</td>\n",
       "      <td>barking and dagenham</td>\n",
       "      <td>1999-12-01</td>\n",
       "    </tr>\n",
       "    <tr>\n",
       "      <th>2</th>\n",
       "      <td>19,568.00</td>\n",
       "      <td>barnet</td>\n",
       "      <td>1999-12-01</td>\n",
       "    </tr>\n",
       "    <tr>\n",
       "      <th>3</th>\n",
       "      <td>18,621.00</td>\n",
       "      <td>bexley</td>\n",
       "      <td>1999-12-01</td>\n",
       "    </tr>\n",
       "    <tr>\n",
       "      <th>4</th>\n",
       "      <td>18,532.00</td>\n",
       "      <td>brent</td>\n",
       "      <td>1999-12-01</td>\n",
       "    </tr>\n",
       "  </tbody>\n",
       "</table>\n",
       "</div>"
      ],
      "text/plain": [
       "   median_salary                  area        date\n",
       "0      33,020.00        city of london  1999-12-01\n",
       "1      21,480.00  barking and dagenham  1999-12-01\n",
       "2      19,568.00                barnet  1999-12-01\n",
       "3      18,621.00                bexley  1999-12-01\n",
       "4      18,532.00                 brent  1999-12-01"
      ]
     },
     "execution_count": 74,
     "metadata": {},
     "output_type": "execute_result"
    }
   ],
   "source": [
    "#Filtrar los datos \n",
    "df1 = df1.filter(items=[\"median_salary\",\"area\",\"date\"])\n",
    "df1.head()"
   ]
  },
  {
   "cell_type": "code",
   "execution_count": 75,
   "metadata": {},
   "outputs": [
    {
     "data": {
      "text/html": [
       "<div>\n",
       "<style scoped>\n",
       "    .dataframe tbody tr th:only-of-type {\n",
       "        vertical-align: middle;\n",
       "    }\n",
       "\n",
       "    .dataframe tbody tr th {\n",
       "        vertical-align: top;\n",
       "    }\n",
       "\n",
       "    .dataframe thead th {\n",
       "        text-align: right;\n",
       "    }\n",
       "</style>\n",
       "<table border=\"1\" class=\"dataframe\">\n",
       "  <thead>\n",
       "    <tr style=\"text-align: right;\">\n",
       "      <th></th>\n",
       "      <th>median_salary</th>\n",
       "      <th>area</th>\n",
       "      <th>date</th>\n",
       "      <th>average_price</th>\n",
       "      <th>code</th>\n",
       "      <th>houses_sold</th>\n",
       "      <th>no_of_crimes</th>\n",
       "      <th>borough_flag</th>\n",
       "    </tr>\n",
       "  </thead>\n",
       "  <tbody>\n",
       "    <tr>\n",
       "      <th>0</th>\n",
       "      <td>33,020.00</td>\n",
       "      <td>city of london</td>\n",
       "      <td>1999-12-01</td>\n",
       "      <td>169309</td>\n",
       "      <td>E09000001</td>\n",
       "      <td>97.00</td>\n",
       "      <td>NaN</td>\n",
       "      <td>1</td>\n",
       "    </tr>\n",
       "    <tr>\n",
       "      <th>1</th>\n",
       "      <td>21,480.00</td>\n",
       "      <td>barking and dagenham</td>\n",
       "      <td>1999-12-01</td>\n",
       "      <td>68812</td>\n",
       "      <td>E09000002</td>\n",
       "      <td>267.00</td>\n",
       "      <td>NaN</td>\n",
       "      <td>1</td>\n",
       "    </tr>\n",
       "    <tr>\n",
       "      <th>2</th>\n",
       "      <td>19,568.00</td>\n",
       "      <td>barnet</td>\n",
       "      <td>1999-12-01</td>\n",
       "      <td>149510</td>\n",
       "      <td>E09000003</td>\n",
       "      <td>619.00</td>\n",
       "      <td>NaN</td>\n",
       "      <td>1</td>\n",
       "    </tr>\n",
       "    <tr>\n",
       "      <th>3</th>\n",
       "      <td>18,621.00</td>\n",
       "      <td>bexley</td>\n",
       "      <td>1999-12-01</td>\n",
       "      <td>93905</td>\n",
       "      <td>E09000004</td>\n",
       "      <td>460.00</td>\n",
       "      <td>NaN</td>\n",
       "      <td>1</td>\n",
       "    </tr>\n",
       "    <tr>\n",
       "      <th>4</th>\n",
       "      <td>18,532.00</td>\n",
       "      <td>brent</td>\n",
       "      <td>1999-12-01</td>\n",
       "      <td>123398</td>\n",
       "      <td>E09000005</td>\n",
       "      <td>395.00</td>\n",
       "      <td>NaN</td>\n",
       "      <td>1</td>\n",
       "    </tr>\n",
       "  </tbody>\n",
       "</table>\n",
       "</div>"
      ],
      "text/plain": [
       "   median_salary                  area        date  average_price       code  \\\n",
       "0      33,020.00        city of london  1999-12-01         169309  E09000001   \n",
       "1      21,480.00  barking and dagenham  1999-12-01          68812  E09000002   \n",
       "2      19,568.00                barnet  1999-12-01         149510  E09000003   \n",
       "3      18,621.00                bexley  1999-12-01          93905  E09000004   \n",
       "4      18,532.00                 brent  1999-12-01         123398  E09000005   \n",
       "\n",
       "   houses_sold  no_of_crimes  borough_flag  \n",
       "0        97.00           NaN             1  \n",
       "1       267.00           NaN             1  \n",
       "2       619.00           NaN             1  \n",
       "3       460.00           NaN             1  \n",
       "4       395.00           NaN             1  "
      ]
     },
     "execution_count": 75,
     "metadata": {},
     "output_type": "execute_result"
    }
   ],
   "source": [
    "#Fusionar los dos dataframe\n",
    "data = pd.merge(df1,df2)\n",
    "data.head()"
   ]
  },
  {
   "cell_type": "code",
   "execution_count": 76,
   "metadata": {},
   "outputs": [
    {
     "name": "stdout",
     "output_type": "stream",
     "text": [
      "<class 'pandas.core.frame.DataFrame'>\n",
      "Int64Index: 903 entries, 0 to 902\n",
      "Data columns (total 8 columns):\n",
      " #   Column         Non-Null Count  Dtype  \n",
      "---  ------         --------------  -----  \n",
      " 0   median_salary  881 non-null    float64\n",
      " 1   area           903 non-null    object \n",
      " 2   date           903 non-null    object \n",
      " 3   average_price  903 non-null    int64  \n",
      " 4   code           903 non-null    object \n",
      " 5   houses_sold    860 non-null    float64\n",
      " 6   no_of_crimes   617 non-null    float64\n",
      " 7   borough_flag   903 non-null    int64  \n",
      "dtypes: float64(3), int64(2), object(3)\n",
      "memory usage: 63.5+ KB\n"
     ]
    }
   ],
   "source": [
    "# Obtener información de los datos.\n",
    "\"population_size\",\"life_satisfaction\",\"number_of_houses\"\n",
    "data.info()"
   ]
  },
  {
   "cell_type": "markdown",
   "metadata": {},
   "source": [
    "👀:Comienza a ver el tipo de variable, de eso depende el análisis que le demos o si necesitamos cambiarlas a otro tipo de variable"
   ]
  },
  {
   "cell_type": "markdown",
   "metadata": {},
   "source": [
    "***"
   ]
  },
  {
   "cell_type": "code",
   "execution_count": 77,
   "metadata": {},
   "outputs": [
    {
     "data": {
      "text/plain": [
       "city of london            21\n",
       "westminster               21\n",
       "newham                    21\n",
       "redbridge                 21\n",
       "richmond upon thames      21\n",
       "southwark                 21\n",
       "sutton                    21\n",
       "tower hamlets             21\n",
       "waltham forest            21\n",
       "wandsworth                21\n",
       "north east                21\n",
       "lewisham                  21\n",
       "north west                21\n",
       "east midlands             21\n",
       "west midlands             21\n",
       "london                    21\n",
       "south east                21\n",
       "south west                21\n",
       "inner london              21\n",
       "outer london              21\n",
       "merton                    21\n",
       "lambeth                   21\n",
       "barking and dagenham      21\n",
       "greenwich                 21\n",
       "barnet                    21\n",
       "bexley                    21\n",
       "brent                     21\n",
       "bromley                   21\n",
       "camden                    21\n",
       "croydon                   21\n",
       "ealing                    21\n",
       "enfield                   21\n",
       "hackney                   21\n",
       "kingston upon thames      21\n",
       "hammersmith and fulham    21\n",
       "haringey                  21\n",
       "harrow                    21\n",
       "havering                  21\n",
       "hillingdon                21\n",
       "hounslow                  21\n",
       "islington                 21\n",
       "kensington and chelsea    21\n",
       "england                   21\n",
       "Name: area, dtype: int64"
      ]
     },
     "execution_count": 77,
     "metadata": {},
     "output_type": "execute_result"
    }
   ],
   "source": [
    "# Una forma muy común para saber que tipo de datos contiene alguna variable de tipo objeto, es contar sus valores, ejemplo:\n",
    "data[\"area\"].value_counts()"
   ]
  },
  {
   "cell_type": "code",
   "execution_count": 78,
   "metadata": {},
   "outputs": [
    {
     "data": {
      "text/html": [
       "<div>\n",
       "<style scoped>\n",
       "    .dataframe tbody tr th:only-of-type {\n",
       "        vertical-align: middle;\n",
       "    }\n",
       "\n",
       "    .dataframe tbody tr th {\n",
       "        vertical-align: top;\n",
       "    }\n",
       "\n",
       "    .dataframe thead th {\n",
       "        text-align: right;\n",
       "    }\n",
       "</style>\n",
       "<table border=\"1\" class=\"dataframe\">\n",
       "  <thead>\n",
       "    <tr style=\"text-align: right;\">\n",
       "      <th></th>\n",
       "      <th>median_salary</th>\n",
       "      <th>average_price</th>\n",
       "      <th>houses_sold</th>\n",
       "      <th>no_of_crimes</th>\n",
       "      <th>borough_flag</th>\n",
       "    </tr>\n",
       "  </thead>\n",
       "  <tbody>\n",
       "    <tr>\n",
       "      <th>count</th>\n",
       "      <td>881.00</td>\n",
       "      <td>903.00</td>\n",
       "      <td>860.00</td>\n",
       "      <td>617.00</td>\n",
       "      <td>903.00</td>\n",
       "    </tr>\n",
       "    <tr>\n",
       "      <th>mean</th>\n",
       "      <td>28,789.28</td>\n",
       "      <td>309,916.87</td>\n",
       "      <td>3,853.29</td>\n",
       "      <td>2,038.09</td>\n",
       "      <td>0.77</td>\n",
       "    </tr>\n",
       "    <tr>\n",
       "      <th>std</th>\n",
       "      <td>6,508.32</td>\n",
       "      <td>187,527.43</td>\n",
       "      <td>12,917.66</td>\n",
       "      <td>879.52</td>\n",
       "      <td>0.42</td>\n",
       "    </tr>\n",
       "    <tr>\n",
       "      <th>min</th>\n",
       "      <td>15,684.00</td>\n",
       "      <td>48,298.00</td>\n",
       "      <td>6.00</td>\n",
       "      <td>0.00</td>\n",
       "      <td>0.00</td>\n",
       "    </tr>\n",
       "    <tr>\n",
       "      <th>25%</th>\n",
       "      <td>24,582.00</td>\n",
       "      <td>189,287.00</td>\n",
       "      <td>246.00</td>\n",
       "      <td>1,542.00</td>\n",
       "      <td>1.00</td>\n",
       "    </tr>\n",
       "    <tr>\n",
       "      <th>50%</th>\n",
       "      <td>28,284.00</td>\n",
       "      <td>260,893.00</td>\n",
       "      <td>351.00</td>\n",
       "      <td>2,008.00</td>\n",
       "      <td>1.00</td>\n",
       "    </tr>\n",
       "    <tr>\n",
       "      <th>75%</th>\n",
       "      <td>31,589.00</td>\n",
       "      <td>387,597.00</td>\n",
       "      <td>626.00</td>\n",
       "      <td>2,402.00</td>\n",
       "      <td>1.00</td>\n",
       "    </tr>\n",
       "    <tr>\n",
       "      <th>max</th>\n",
       "      <td>61,636.00</td>\n",
       "      <td>1,364,185.00</td>\n",
       "      <td>119,458.00</td>\n",
       "      <td>7,461.00</td>\n",
       "      <td>1.00</td>\n",
       "    </tr>\n",
       "  </tbody>\n",
       "</table>\n",
       "</div>"
      ],
      "text/plain": [
       "       median_salary  average_price  houses_sold  no_of_crimes  borough_flag\n",
       "count         881.00         903.00       860.00        617.00        903.00\n",
       "mean       28,789.28     309,916.87     3,853.29      2,038.09          0.77\n",
       "std         6,508.32     187,527.43    12,917.66        879.52          0.42\n",
       "min        15,684.00      48,298.00         6.00          0.00          0.00\n",
       "25%        24,582.00     189,287.00       246.00      1,542.00          1.00\n",
       "50%        28,284.00     260,893.00       351.00      2,008.00          1.00\n",
       "75%        31,589.00     387,597.00       626.00      2,402.00          1.00\n",
       "max        61,636.00   1,364,185.00   119,458.00      7,461.00          1.00"
      ]
     },
     "execution_count": 78,
     "metadata": {},
     "output_type": "execute_result"
    }
   ],
   "source": [
    "# Una forma muy utilizada para obtener información de nuestros datos numéricos es el método describe(), ejemplo:\n",
    "pd.options.display.float_format = '{:,.2f}'.format\n",
    "data.describe()"
   ]
  },
  {
   "cell_type": "code",
   "execution_count": 79,
   "metadata": {},
   "outputs": [
    {
     "data": {
      "image/png": "[encoded data removed]",
      "text/plain": [
       "<Figure size 1080x720 with 6 Axes>"
      ]
     },
     "metadata": {
      "needs_background": "light"
     },
     "output_type": "display_data"
    }
   ],
   "source": [
    "# Realiza un Histograma para visualizar los datos \n",
    "#matplotlib inline para aquellos que estan con jupyter notebook\n",
    "data.hist(bins=50,figsize=(15,10))\n",
    "plt.show()"
   ]
  },
  {
   "cell_type": "markdown",
   "metadata": {},
   "source": [
    "***"
   ]
  },
  {
   "cell_type": "markdown",
   "metadata": {},
   "source": [
    "## <span style=\"color:green\">3. Crear un set de entrenamiento y de prueba </span>"
   ]
  },
  {
   "cell_type": "markdown",
   "metadata": {},
   "source": [
    "Recuerden que nuestro set de prueba lo pondremos de lado por ahora, sin verlo. No sean tramposos ❌"
   ]
  },
  {
   "cell_type": "code",
   "execution_count": 80,
   "metadata": {},
   "outputs": [],
   "source": [
    "#Importamos la función para dividir los datos train_test_split\n",
    "from sklearn.model_selection import train_test_split"
   ]
  },
  {
   "cell_type": "code",
   "execution_count": 81,
   "metadata": {},
   "outputs": [],
   "source": [
    "# Seleccionamos por ejemplo, el 30% de los datos para el set de prueba\n",
    "#Random_state es la semilla que se usa para generar números aleatorios.\n",
    "set_ent, set_prueba = train_test_split(data, test_size=0.3, random_state=21)"
   ]
  },
  {
   "cell_type": "code",
   "execution_count": 82,
   "metadata": {},
   "outputs": [
    {
     "name": "stdout",
     "output_type": "stream",
     "text": [
      "632 271\n"
     ]
    }
   ],
   "source": [
    "#confirmamos la división\n",
    "print(len(set_ent),len(set_prueba))"
   ]
  },
  {
   "cell_type": "markdown",
   "metadata": {},
   "source": [
    "Ya tenemos nuestro set de prueba y nuestro set de entrenamiento ✅"
   ]
  },
  {
   "cell_type": "markdown",
   "metadata": {},
   "source": [
    "***"
   ]
  },
  {
   "cell_type": "markdown",
   "metadata": {},
   "source": [
    "### <span style=\"color:blue\">3.1 Evitar Sesgo </span>"
   ]
  },
  {
   "cell_type": "code",
   "execution_count": 83,
   "metadata": {},
   "outputs": [
    {
     "data": {
      "text/plain": [
       "<AxesSubplot:>"
      ]
     },
     "execution_count": 83,
     "metadata": {},
     "output_type": "execute_result"
    },
    {
     "data": {
      "image/png": "[encoded data removed]",
      "text/plain": [
       "<Figure size 432x288 with 1 Axes>"
      ]
     },
     "metadata": {
      "needs_background": "light"
     },
     "output_type": "display_data"
    }
   ],
   "source": [
    "# Para categorizar una variable, ejemplo con 5 niveles. \n",
    "data[\"salary_cat\"] = pd.cut(data[\"median_salary\"],\n",
    "                           bins=[0., 10000, 20000, 30000, 40000,\n",
    "                                np.inf],\n",
    "                           labels=[1, 2, 3, 4, 5])\n",
    "#Hacer un histograma de las categorías\n",
    "data[\"salary_cat\"].hist()"
   ]
  },
  {
   "cell_type": "code",
   "execution_count": 84,
   "metadata": {},
   "outputs": [
    {
     "data": {
      "text/plain": [
       "3    496\n",
       "4    287\n",
       "2     59\n",
       "5     39\n",
       "1      0\n",
       "Name: salary_cat, dtype: int64"
      ]
     },
     "execution_count": 84,
     "metadata": {},
     "output_type": "execute_result"
    }
   ],
   "source": [
    "#Verificar que no existen datos en el bin #1\n",
    "data[\"salary_cat\"].value_counts()"
   ]
  },
  {
   "cell_type": "code",
   "execution_count": 85,
   "metadata": {},
   "outputs": [
    {
     "data": {
      "text/plain": [
       "<AxesSubplot:>"
      ]
     },
     "execution_count": 85,
     "metadata": {},
     "output_type": "execute_result"
    },
    {
     "data": {
      "image/png": "[encoded data removed]",
      "text/plain": [
       "<Figure size 432x288 with 1 Axes>"
      ]
     },
     "metadata": {
      "needs_background": "light"
     },
     "output_type": "display_data"
    }
   ],
   "source": [
    "# Redefinir en 4 categorías, quitando en donde no hay datos (el bin#1)\n",
    "data = data.dropna(subset=['median_salary'])\n",
    "data = data.reset_index()\n",
    "data[\"salary_cat\"] = pd.cut(data[\"median_salary\"],\n",
    "                           bins=[10000., 20000., 30000., 40000.,\n",
    "                                np.inf],\n",
    "                           labels=[1, 2, 3, 4])\n",
    "data[\"salary_cat\"].hist()"
   ]
  },
  {
   "cell_type": "code",
   "execution_count": 86,
   "metadata": {},
   "outputs": [
    {
     "data": {
      "text/plain": [
       "2    496\n",
       "3    287\n",
       "1     59\n",
       "4     39\n",
       "Name: salary_cat, dtype: int64"
      ]
     },
     "execution_count": 86,
     "metadata": {},
     "output_type": "execute_result"
    }
   ],
   "source": [
    "#Verifica que si se redefinieron las categorías \n",
    "data[\"salary_cat\"].value_counts()"
   ]
  },
  {
   "cell_type": "code",
   "execution_count": 87,
   "metadata": {},
   "outputs": [],
   "source": [
    "## Dividir datos basándonos en nuestras categorías de salarios\n",
    "\n",
    "from sklearn.model_selection import StratifiedShuffleSplit"
   ]
  },
  {
   "cell_type": "code",
   "execution_count": 88,
   "metadata": {},
   "outputs": [],
   "source": [
    "# Generamos nuestro objeto para que lo divida en 30% y solo haga una división\n",
    "split = StratifiedShuffleSplit(n_splits=1, test_size=0.3, random_state=21)"
   ]
  },
  {
   "cell_type": "code",
   "execution_count": 89,
   "metadata": {},
   "outputs": [],
   "source": [
    "# Creamos nuestras variables basándonos en nuestras categorías\n",
    "for ent_index, prueba_index in split.split(data,data[\"salary_cat\"]):\n",
    "    cat_set_ent = data.loc[ent_index]\n",
    "    cat_set_prueba = data.loc[prueba_index]"
   ]
  },
  {
   "cell_type": "code",
   "execution_count": 90,
   "metadata": {},
   "outputs": [
    {
     "data": {
      "text/plain": [
       "2   0.56\n",
       "3   0.32\n",
       "1   0.07\n",
       "4   0.05\n",
       "Name: salary_cat, dtype: float64"
      ]
     },
     "execution_count": 90,
     "metadata": {},
     "output_type": "execute_result"
    }
   ],
   "source": [
    "# Comprobación. Ya en porcentaje\n",
    "cat_set_prueba[\"salary_cat\"].value_counts()/ len(cat_set_prueba)"
   ]
  },
  {
   "cell_type": "markdown",
   "metadata": {},
   "source": [
    "***"
   ]
  },
  {
   "cell_type": "code",
   "execution_count": 91,
   "metadata": {},
   "outputs": [
    {
     "data": {
      "text/html": [
       "<div>\n",
       "<style scoped>\n",
       "    .dataframe tbody tr th:only-of-type {\n",
       "        vertical-align: middle;\n",
       "    }\n",
       "\n",
       "    .dataframe tbody tr th {\n",
       "        vertical-align: top;\n",
       "    }\n",
       "\n",
       "    .dataframe thead th {\n",
       "        text-align: right;\n",
       "    }\n",
       "</style>\n",
       "<table border=\"1\" class=\"dataframe\">\n",
       "  <thead>\n",
       "    <tr style=\"text-align: right;\">\n",
       "      <th></th>\n",
       "      <th>index</th>\n",
       "      <th>median_salary</th>\n",
       "      <th>area</th>\n",
       "      <th>date</th>\n",
       "      <th>average_price</th>\n",
       "      <th>code</th>\n",
       "      <th>houses_sold</th>\n",
       "      <th>no_of_crimes</th>\n",
       "      <th>borough_flag</th>\n",
       "      <th>salary_cat</th>\n",
       "    </tr>\n",
       "  </thead>\n",
       "  <tbody>\n",
       "    <tr>\n",
       "      <th>780</th>\n",
       "      <td>796</td>\n",
       "      <td>33,294.00</td>\n",
       "      <td>lewisham</td>\n",
       "      <td>2017-12-01</td>\n",
       "      <td>408684</td>\n",
       "      <td>E09000023</td>\n",
       "      <td>308.00</td>\n",
       "      <td>2,030.00</td>\n",
       "      <td>1</td>\n",
       "      <td>3</td>\n",
       "    </tr>\n",
       "    <tr>\n",
       "      <th>669</th>\n",
       "      <td>684</td>\n",
       "      <td>25,585.00</td>\n",
       "      <td>south west</td>\n",
       "      <td>2014-12-01</td>\n",
       "      <td>211576</td>\n",
       "      <td>E12000009</td>\n",
       "      <td>9,535.00</td>\n",
       "      <td>NaN</td>\n",
       "      <td>0</td>\n",
       "      <td>2</td>\n",
       "    </tr>\n",
       "    <tr>\n",
       "      <th>8</th>\n",
       "      <td>8</td>\n",
       "      <td>20,580.00</td>\n",
       "      <td>ealing</td>\n",
       "      <td>1999-12-01</td>\n",
       "      <td>141687</td>\n",
       "      <td>E09000009</td>\n",
       "      <td>522.00</td>\n",
       "      <td>NaN</td>\n",
       "      <td>1</td>\n",
       "      <td>2</td>\n",
       "    </tr>\n",
       "    <tr>\n",
       "      <th>770</th>\n",
       "      <td>786</td>\n",
       "      <td>36,972.00</td>\n",
       "      <td>hammersmith and fulham</td>\n",
       "      <td>2017-12-01</td>\n",
       "      <td>742878</td>\n",
       "      <td>E09000013</td>\n",
       "      <td>200.00</td>\n",
       "      <td>1,901.00</td>\n",
       "      <td>1</td>\n",
       "      <td>3</td>\n",
       "    </tr>\n",
       "    <tr>\n",
       "      <th>868</th>\n",
       "      <td>888</td>\n",
       "      <td>32,947.00</td>\n",
       "      <td>sutton</td>\n",
       "      <td>2019-12-01</td>\n",
       "      <td>374700</td>\n",
       "      <td>E09000029</td>\n",
       "      <td>NaN</td>\n",
       "      <td>1,121.00</td>\n",
       "      <td>1</td>\n",
       "      <td>3</td>\n",
       "    </tr>\n",
       "  </tbody>\n",
       "</table>\n",
       "</div>"
      ],
      "text/plain": [
       "     index  median_salary                    area        date  average_price  \\\n",
       "780    796      33,294.00                lewisham  2017-12-01         408684   \n",
       "669    684      25,585.00              south west  2014-12-01         211576   \n",
       "8        8      20,580.00                  ealing  1999-12-01         141687   \n",
       "770    786      36,972.00  hammersmith and fulham  2017-12-01         742878   \n",
       "868    888      32,947.00                  sutton  2019-12-01         374700   \n",
       "\n",
       "          code  houses_sold  no_of_crimes  borough_flag salary_cat  \n",
       "780  E09000023       308.00      2,030.00             1          3  \n",
       "669  E12000009     9,535.00           NaN             0          2  \n",
       "8    E09000009       522.00           NaN             1          2  \n",
       "770  E09000013       200.00      1,901.00             1          3  \n",
       "868  E09000029          NaN      1,121.00             1          3  "
      ]
     },
     "execution_count": 91,
     "metadata": {},
     "output_type": "execute_result"
    }
   ],
   "source": [
    "# Creamos dataframe para trabajar con el set de entrenamiento\n",
    "df = cat_set_ent.copy()\n",
    "df.head()"
   ]
  },
  {
   "cell_type": "markdown",
   "metadata": {},
   "source": [
    "***"
   ]
  },
  {
   "cell_type": "markdown",
   "metadata": {},
   "source": [
    "## <span style=\"color:green\">4. Visualizar los Datos Gráficamente </span>\n",
    "\n",
    "\n",
    "Para esto vamos a necesitar, en conjunto con nuestro dataset LONDON_MAP, una nueva libreria que se llama geopandas, el cual exteiende la libreria pandas, para trabajar con datos geoespaciales, se puede encontrar más información en: https://geopandas.org/getting_started/introduction.html"
   ]
  },
  {
   "cell_type": "code",
   "execution_count": 92,
   "metadata": {
    "scrolled": true
   },
   "outputs": [],
   "source": [
    "#Importar geopandas\n",
    "import geopandas as gpd\n",
    "\n"
   ]
  },
  {
   "cell_type": "code",
   "execution_count": 93,
   "metadata": {},
   "outputs": [
    {
     "data": {
      "text/html": [
       "<div>\n",
       "<style scoped>\n",
       "    .dataframe tbody tr th:only-of-type {\n",
       "        vertical-align: middle;\n",
       "    }\n",
       "\n",
       "    .dataframe tbody tr th {\n",
       "        vertical-align: top;\n",
       "    }\n",
       "\n",
       "    .dataframe thead th {\n",
       "        text-align: right;\n",
       "    }\n",
       "</style>\n",
       "<table border=\"1\" class=\"dataframe\">\n",
       "  <thead>\n",
       "    <tr style=\"text-align: right;\">\n",
       "      <th></th>\n",
       "      <th>NAME</th>\n",
       "      <th>GSS_CODE</th>\n",
       "      <th>HECTARES</th>\n",
       "      <th>NONLD_AREA</th>\n",
       "      <th>ONS_INNER</th>\n",
       "      <th>SUB_2009</th>\n",
       "      <th>SUB_2006</th>\n",
       "      <th>geometry</th>\n",
       "    </tr>\n",
       "  </thead>\n",
       "  <tbody>\n",
       "    <tr>\n",
       "      <th>0</th>\n",
       "      <td>Kingston upon Thames</td>\n",
       "      <td>E09000021</td>\n",
       "      <td>3,726.12</td>\n",
       "      <td>0.00</td>\n",
       "      <td>F</td>\n",
       "      <td>None</td>\n",
       "      <td>None</td>\n",
       "      <td>POLYGON ((516401.600 160201.800, 516407.300 16...</td>\n",
       "    </tr>\n",
       "    <tr>\n",
       "      <th>1</th>\n",
       "      <td>Croydon</td>\n",
       "      <td>E09000008</td>\n",
       "      <td>8,649.44</td>\n",
       "      <td>0.00</td>\n",
       "      <td>F</td>\n",
       "      <td>None</td>\n",
       "      <td>None</td>\n",
       "      <td>POLYGON ((535009.200 159504.700, 535005.500 15...</td>\n",
       "    </tr>\n",
       "    <tr>\n",
       "      <th>2</th>\n",
       "      <td>Bromley</td>\n",
       "      <td>E09000006</td>\n",
       "      <td>15,013.49</td>\n",
       "      <td>0.00</td>\n",
       "      <td>F</td>\n",
       "      <td>None</td>\n",
       "      <td>None</td>\n",
       "      <td>POLYGON ((540373.600 157530.400, 540361.200 15...</td>\n",
       "    </tr>\n",
       "    <tr>\n",
       "      <th>3</th>\n",
       "      <td>Hounslow</td>\n",
       "      <td>E09000018</td>\n",
       "      <td>5,658.54</td>\n",
       "      <td>60.76</td>\n",
       "      <td>F</td>\n",
       "      <td>None</td>\n",
       "      <td>None</td>\n",
       "      <td>POLYGON ((521975.800 178100.000, 521967.700 17...</td>\n",
       "    </tr>\n",
       "    <tr>\n",
       "      <th>4</th>\n",
       "      <td>Ealing</td>\n",
       "      <td>E09000009</td>\n",
       "      <td>5,554.43</td>\n",
       "      <td>0.00</td>\n",
       "      <td>F</td>\n",
       "      <td>None</td>\n",
       "      <td>None</td>\n",
       "      <td>POLYGON ((510253.500 182881.600, 510249.900 18...</td>\n",
       "    </tr>\n",
       "  </tbody>\n",
       "</table>\n",
       "</div>"
      ],
      "text/plain": [
       "                   NAME   GSS_CODE  HECTARES  NONLD_AREA ONS_INNER SUB_2009  \\\n",
       "0  Kingston upon Thames  E09000021  3,726.12        0.00         F     None   \n",
       "1               Croydon  E09000008  8,649.44        0.00         F     None   \n",
       "2               Bromley  E09000006 15,013.49        0.00         F     None   \n",
       "3              Hounslow  E09000018  5,658.54       60.76         F     None   \n",
       "4                Ealing  E09000009  5,554.43        0.00         F     None   \n",
       "\n",
       "  SUB_2006                                           geometry  \n",
       "0     None  POLYGON ((516401.600 160201.800, 516407.300 16...  \n",
       "1     None  POLYGON ((535009.200 159504.700, 535005.500 15...  \n",
       "2     None  POLYGON ((540373.600 157530.400, 540361.200 15...  \n",
       "3     None  POLYGON ((521975.800 178100.000, 521967.700 17...  \n",
       "4     None  POLYGON ((510253.500 182881.600, 510249.900 18...  "
      ]
     },
     "execution_count": 93,
     "metadata": {},
     "output_type": "execute_result"
    }
   ],
   "source": [
    "#Leer el mapa\n",
    "londres_map = gpd.read_file(LONDON_MAP)\n",
    "londres_map.head()"
   ]
  },
  {
   "cell_type": "code",
   "execution_count": 94,
   "metadata": {},
   "outputs": [
    {
     "data": {
      "text/plain": [
       "<AxesSubplot:>"
      ]
     },
     "execution_count": 94,
     "metadata": {},
     "output_type": "execute_result"
    },
    {
     "data": {
      "image/png": "[encoded data removed]",
      "text/plain": [
       "<Figure size 432x288 with 1 Axes>"
      ]
     },
     "metadata": {
      "needs_background": "light"
     },
     "output_type": "display_data"
    }
   ],
   "source": [
    "# Graficamos el mapa\n",
    "londres_map.plot()"
   ]
  },
  {
   "cell_type": "markdown",
   "metadata": {},
   "source": [
    "***"
   ]
  },
  {
   "cell_type": "code",
   "execution_count": 95,
   "metadata": {},
   "outputs": [
    {
     "data": {
      "text/html": [
       "<div>\n",
       "<style scoped>\n",
       "    .dataframe tbody tr th:only-of-type {\n",
       "        vertical-align: middle;\n",
       "    }\n",
       "\n",
       "    .dataframe tbody tr th {\n",
       "        vertical-align: top;\n",
       "    }\n",
       "\n",
       "    .dataframe thead th {\n",
       "        text-align: right;\n",
       "    }\n",
       "</style>\n",
       "<table border=\"1\" class=\"dataframe\">\n",
       "  <thead>\n",
       "    <tr style=\"text-align: right;\">\n",
       "      <th></th>\n",
       "      <th>area</th>\n",
       "      <th>code</th>\n",
       "      <th>hectares</th>\n",
       "      <th>geometry</th>\n",
       "    </tr>\n",
       "  </thead>\n",
       "  <tbody>\n",
       "    <tr>\n",
       "      <th>0</th>\n",
       "      <td>kingston upon thames</td>\n",
       "      <td>E09000021</td>\n",
       "      <td>3,726.12</td>\n",
       "      <td>POLYGON ((516401.600 160201.800, 516407.300 16...</td>\n",
       "    </tr>\n",
       "    <tr>\n",
       "      <th>1</th>\n",
       "      <td>croydon</td>\n",
       "      <td>E09000008</td>\n",
       "      <td>8,649.44</td>\n",
       "      <td>POLYGON ((535009.200 159504.700, 535005.500 15...</td>\n",
       "    </tr>\n",
       "    <tr>\n",
       "      <th>2</th>\n",
       "      <td>bromley</td>\n",
       "      <td>E09000006</td>\n",
       "      <td>15,013.49</td>\n",
       "      <td>POLYGON ((540373.600 157530.400, 540361.200 15...</td>\n",
       "    </tr>\n",
       "    <tr>\n",
       "      <th>3</th>\n",
       "      <td>hounslow</td>\n",
       "      <td>E09000018</td>\n",
       "      <td>5,658.54</td>\n",
       "      <td>POLYGON ((521975.800 178100.000, 521967.700 17...</td>\n",
       "    </tr>\n",
       "    <tr>\n",
       "      <th>4</th>\n",
       "      <td>ealing</td>\n",
       "      <td>E09000009</td>\n",
       "      <td>5,554.43</td>\n",
       "      <td>POLYGON ((510253.500 182881.600, 510249.900 18...</td>\n",
       "    </tr>\n",
       "  </tbody>\n",
       "</table>\n",
       "</div>"
      ],
      "text/plain": [
       "                   area       code  hectares  \\\n",
       "0  kingston upon thames  E09000021  3,726.12   \n",
       "1               croydon  E09000008  8,649.44   \n",
       "2               bromley  E09000006 15,013.49   \n",
       "3              hounslow  E09000018  5,658.54   \n",
       "4                ealing  E09000009  5,554.43   \n",
       "\n",
       "                                            geometry  \n",
       "0  POLYGON ((516401.600 160201.800, 516407.300 16...  \n",
       "1  POLYGON ((535009.200 159504.700, 535005.500 15...  \n",
       "2  POLYGON ((540373.600 157530.400, 540361.200 15...  \n",
       "3  POLYGON ((521975.800 178100.000, 521967.700 17...  \n",
       "4  POLYGON ((510253.500 182881.600, 510249.900 18...  "
      ]
     },
     "execution_count": 95,
     "metadata": {},
     "output_type": "execute_result"
    }
   ],
   "source": [
    "# Ajustamos los nombres de las columnas para despúes hacer un merge.\n",
    "#utilizar lower para cambiar de mayúsculas a minúsculas \n",
    "londres_map.columns = londres_map.columns.str.lower()\n",
    "londres_map = londres_map.rename({'name': 'area', 'gss_code': 'code'}, axis=1)\n",
    "londres_map[\"area\"] = londres_map[\"area\"].str.lower()\n",
    "\n",
    "\n",
    "#Seleccionar columnas necesarias\n",
    "londres_map = londres_map.filter(items=[\"area\",\"code\",\"hectares\",\"geometry\"])\n",
    "londres_map.head()"
   ]
  },
  {
   "cell_type": "markdown",
   "metadata": {},
   "source": [
    "***"
   ]
  },
  {
   "cell_type": "code",
   "execution_count": 96,
   "metadata": {},
   "outputs": [
    {
     "data": {
      "text/html": [
       "<div>\n",
       "<style scoped>\n",
       "    .dataframe tbody tr th:only-of-type {\n",
       "        vertical-align: middle;\n",
       "    }\n",
       "\n",
       "    .dataframe tbody tr th {\n",
       "        vertical-align: top;\n",
       "    }\n",
       "\n",
       "    .dataframe thead th {\n",
       "        text-align: right;\n",
       "    }\n",
       "</style>\n",
       "<table border=\"1\" class=\"dataframe\">\n",
       "  <thead>\n",
       "    <tr style=\"text-align: right;\">\n",
       "      <th></th>\n",
       "      <th>area</th>\n",
       "      <th>average_price</th>\n",
       "      <th>houses_sold</th>\n",
       "    </tr>\n",
       "  </thead>\n",
       "  <tbody>\n",
       "    <tr>\n",
       "      <th>0</th>\n",
       "      <td>barking and dagenham</td>\n",
       "      <td>181,275.31</td>\n",
       "      <td>2,656.00</td>\n",
       "    </tr>\n",
       "    <tr>\n",
       "      <th>1</th>\n",
       "      <td>barnet</td>\n",
       "      <td>321,436.08</td>\n",
       "      <td>6,004.00</td>\n",
       "    </tr>\n",
       "    <tr>\n",
       "      <th>2</th>\n",
       "      <td>bexley</td>\n",
       "      <td>191,750.14</td>\n",
       "      <td>4,567.00</td>\n",
       "    </tr>\n",
       "    <tr>\n",
       "      <th>3</th>\n",
       "      <td>brent</td>\n",
       "      <td>309,053.50</td>\n",
       "      <td>4,176.00</td>\n",
       "    </tr>\n",
       "    <tr>\n",
       "      <th>4</th>\n",
       "      <td>bromley</td>\n",
       "      <td>270,865.79</td>\n",
       "      <td>7,490.00</td>\n",
       "    </tr>\n",
       "  </tbody>\n",
       "</table>\n",
       "</div>"
      ],
      "text/plain": [
       "                   area  average_price  houses_sold\n",
       "0  barking and dagenham     181,275.31     2,656.00\n",
       "1                barnet     321,436.08     6,004.00\n",
       "2                bexley     191,750.14     4,567.00\n",
       "3                 brent     309,053.50     4,176.00\n",
       "4               bromley     270,865.79     7,490.00"
      ]
     },
     "execution_count": 96,
     "metadata": {},
     "output_type": "execute_result"
    }
   ],
   "source": [
    "# Seleccionar datos de nuestro set de entrenamiento\n",
    "df_m = df.groupby('area').agg({'average_price': ['mean'], 'houses_sold': 'sum'})\n",
    "\n",
    "# Le asignamos nombre a las columnas del nuevo dataframe y reseteamos el indice\n",
    "df_m.columns = ['average_price', 'houses_sold']\n",
    "df_m.reset_index(inplace = True)\n",
    "df_m.head()"
   ]
  },
  {
   "cell_type": "code",
   "execution_count": 97,
   "metadata": {},
   "outputs": [
    {
     "data": {
      "text/html": [
       "<div>\n",
       "<style scoped>\n",
       "    .dataframe tbody tr th:only-of-type {\n",
       "        vertical-align: middle;\n",
       "    }\n",
       "\n",
       "    .dataframe tbody tr th {\n",
       "        vertical-align: top;\n",
       "    }\n",
       "\n",
       "    .dataframe thead th {\n",
       "        text-align: right;\n",
       "    }\n",
       "</style>\n",
       "<table border=\"1\" class=\"dataframe\">\n",
       "  <thead>\n",
       "    <tr style=\"text-align: right;\">\n",
       "      <th></th>\n",
       "      <th>area</th>\n",
       "      <th>code</th>\n",
       "      <th>hectares</th>\n",
       "      <th>geometry</th>\n",
       "      <th>average_price</th>\n",
       "      <th>houses_sold</th>\n",
       "    </tr>\n",
       "  </thead>\n",
       "  <tbody>\n",
       "    <tr>\n",
       "      <th>0</th>\n",
       "      <td>kingston upon thames</td>\n",
       "      <td>E09000021</td>\n",
       "      <td>3,726.12</td>\n",
       "      <td>POLYGON ((516401.600 160201.800, 516407.300 16...</td>\n",
       "      <td>331,837.67</td>\n",
       "      <td>3,204.00</td>\n",
       "    </tr>\n",
       "    <tr>\n",
       "      <th>1</th>\n",
       "      <td>croydon</td>\n",
       "      <td>E09000008</td>\n",
       "      <td>8,649.44</td>\n",
       "      <td>POLYGON ((535009.200 159504.700, 535005.500 15...</td>\n",
       "      <td>260,609.54</td>\n",
       "      <td>5,523.00</td>\n",
       "    </tr>\n",
       "    <tr>\n",
       "      <th>2</th>\n",
       "      <td>bromley</td>\n",
       "      <td>E09000006</td>\n",
       "      <td>15,013.49</td>\n",
       "      <td>POLYGON ((540373.600 157530.400, 540361.200 15...</td>\n",
       "      <td>270,865.79</td>\n",
       "      <td>7,490.00</td>\n",
       "    </tr>\n",
       "    <tr>\n",
       "      <th>3</th>\n",
       "      <td>hounslow</td>\n",
       "      <td>E09000018</td>\n",
       "      <td>5,658.54</td>\n",
       "      <td>POLYGON ((521975.800 178100.000, 521967.700 17...</td>\n",
       "      <td>271,420.60</td>\n",
       "      <td>2,534.00</td>\n",
       "    </tr>\n",
       "    <tr>\n",
       "      <th>4</th>\n",
       "      <td>ealing</td>\n",
       "      <td>E09000009</td>\n",
       "      <td>5,554.43</td>\n",
       "      <td>POLYGON ((510253.500 182881.600, 510249.900 18...</td>\n",
       "      <td>315,546.05</td>\n",
       "      <td>6,776.00</td>\n",
       "    </tr>\n",
       "  </tbody>\n",
       "</table>\n",
       "</div>"
      ],
      "text/plain": [
       "                   area       code  hectares  \\\n",
       "0  kingston upon thames  E09000021  3,726.12   \n",
       "1               croydon  E09000008  8,649.44   \n",
       "2               bromley  E09000006 15,013.49   \n",
       "3              hounslow  E09000018  5,658.54   \n",
       "4                ealing  E09000009  5,554.43   \n",
       "\n",
       "                                            geometry  average_price  \\\n",
       "0  POLYGON ((516401.600 160201.800, 516407.300 16...     331,837.67   \n",
       "1  POLYGON ((535009.200 159504.700, 535005.500 15...     260,609.54   \n",
       "2  POLYGON ((540373.600 157530.400, 540361.200 15...     270,865.79   \n",
       "3  POLYGON ((521975.800 178100.000, 521967.700 17...     271,420.60   \n",
       "4  POLYGON ((510253.500 182881.600, 510249.900 18...     315,546.05   \n",
       "\n",
       "   houses_sold  \n",
       "0     3,204.00  \n",
       "1     5,523.00  \n",
       "2     7,490.00  \n",
       "3     2,534.00  \n",
       "4     6,776.00  "
      ]
     },
     "execution_count": 97,
     "metadata": {},
     "output_type": "execute_result"
    }
   ],
   "source": [
    "# Combinar dtaframes\n",
    "londres_map = pd.merge(londres_map,df_m,on=\"area\")\n",
    "londres_map.head()"
   ]
  },
  {
   "cell_type": "markdown",
   "metadata": {},
   "source": [
    "***"
   ]
  },
  {
   "cell_type": "code",
   "execution_count": 98,
   "metadata": {},
   "outputs": [
    {
     "data": {
      "text/plain": [
       "(500648.735, 564876.965, 153596.645, 203188.055)"
      ]
     },
     "execution_count": 98,
     "metadata": {},
     "output_type": "execute_result"
    },
    {
     "data": {
      "image/png": "[encoded data removed]",
      "text/plain": [
       "<Figure size 432x288 with 2 Axes>"
      ]
     },
     "metadata": {
      "needs_background": "light"
     },
     "output_type": "display_data"
    }
   ],
   "source": [
    "#Gráfica del promedio de los precios en las casas \n",
    "#Cuando se grafica en geopandas hay muchos argumentos, no se desesperen si no los recuerdan, es normal. \n",
    "plt = londres_map.plot(column = 'average_price', cmap = 'Reds', edgecolor = 'maroon',\n",
    "               legend = True, legend_kwds = {'label': 'Precio', 'orientation' : 'horizontal'})\n",
    "plt.set_title('Media de los precios en las casas')\n",
    "plt.axis('off')"
   ]
  },
  {
   "cell_type": "markdown",
   "metadata": {},
   "source": [
    "💸: Recuerden que los precios son mayores en el centro de la cuidad"
   ]
  },
  {
   "cell_type": "code",
   "execution_count": 99,
   "metadata": {},
   "outputs": [
    {
     "data": {
      "text/plain": [
       "(500648.735, 564876.965, 153596.645, 203188.055)"
      ]
     },
     "execution_count": 99,
     "metadata": {},
     "output_type": "execute_result"
    },
    {
     "data": {
      "image/png": "[encoded data removed]",
      "text/plain": [
       "<Figure size 432x288 with 2 Axes>"
      ]
     },
     "metadata": {
      "needs_background": "light"
     },
     "output_type": "display_data"
    }
   ],
   "source": [
    "#Graficar ahora el total de las casa vendidas (utilizar el código anterior para no repetir)\n",
    "plt = londres_map.plot(column = 'houses_sold', cmap = 'Blues', edgecolor = 'maroon',\n",
    "               legend = True, legend_kwds = {'label': 'Precio', 'orientation' : 'horizontal'})\n",
    "plt.set_title('Total de casas vendidas')\n",
    "plt.axis('off')"
   ]
  },
  {
   "cell_type": "markdown",
   "metadata": {},
   "source": [
    "**Ejercicio:** Incluir en el análisis los salarios promedio por zona (apoyarse del video 21)"
   ]
  },
  {
   "cell_type": "markdown",
   "metadata": {},
   "source": [
    "***"
   ]
  },
  {
   "cell_type": "markdown",
   "metadata": {},
   "source": [
    "## <span style=\"color:green\">5. Medir la Correlación </span>\n"
   ]
  },
  {
   "cell_type": "code",
   "execution_count": 100,
   "metadata": {},
   "outputs": [
    {
     "data": {
      "text/plain": [
       "average_price    1.00\n",
       "median_salary    0.66\n",
       "index            0.58\n",
       "borough_flag     0.32\n",
       "no_of_crimes     0.22\n",
       "houses_sold     -0.18\n",
       "Name: average_price, dtype: float64"
      ]
     },
     "execution_count": 100,
     "metadata": {},
     "output_type": "execute_result"
    }
   ],
   "source": [
    "# Crear matriz de correlación\n",
    "matriz = df.corr(method='pearson')\n",
    "\n",
    "# Comparar correlación\n",
    "matriz[\"average_price\"].sort_values(ascending=False)"
   ]
  },
  {
   "cell_type": "code",
   "execution_count": 101,
   "metadata": {},
   "outputs": [
    {
     "data": {
      "text/plain": [
       "<AxesSubplot:>"
      ]
     },
     "execution_count": 101,
     "metadata": {},
     "output_type": "execute_result"
    },
    {
     "data": {
      "image/png": "[encoded data removed]",
      "text/plain": [
       "<Figure size 432x288 with 2 Axes>"
      ]
     },
     "metadata": {
      "needs_background": "light"
     },
     "output_type": "display_data"
    }
   ],
   "source": [
    "#Importar seaborn \n",
    "import seaborn as sns\n",
    "\n",
    "# Crear vector\n",
    "mask = np.triu(np.ones_like(matriz, dtype = bool))\n",
    "\n",
    "# Graficar\n",
    "plt = sns.heatmap(matriz, mask = mask, annot = True, cmap = 'YlGnBu_r')\n",
    "plt"
   ]
  },
  {
   "cell_type": "code",
   "execution_count": 102,
   "metadata": {},
   "outputs": [
    {
     "data": {
      "image/png": "[encoded data removed]",
      "text/plain": [
       "<Figure size 864x864 with 16 Axes>"
      ]
     },
     "metadata": {
      "needs_background": "light"
     },
     "output_type": "display_data"
    }
   ],
   "source": [
    "#Importar pandas \n",
    "from pandas.plotting import scatter_matrix\n",
    "\n",
    "#Para graficar scatter_matrix...\n",
    "columns = ['average_price', 'median_salary', 'no_of_crimes', 'houses_sold']\n",
    "scatter_matrix(df[columns], figsize = (12, 12), color = '#D52B06', alpha = 0.3, \n",
    "               hist_kwds = {'color':['bisque'], 'edgecolor': 'firebrick'});\n"
   ]
  },
  {
   "cell_type": "code",
   "execution_count": 103,
   "metadata": {},
   "outputs": [
    {
     "data": {
      "text/plain": [
       "<AxesSubplot:xlabel='average_price', ylabel='median_salary'>"
      ]
     },
     "execution_count": 103,
     "metadata": {},
     "output_type": "execute_result"
    },
    {
     "data": {
      "image/png": "[encoded data removed]",
      "text/plain": [
       "<Figure size 432x288 with 1 Axes>"
      ]
     },
     "metadata": {
      "needs_background": "light"
     },
     "output_type": "display_data"
    }
   ],
   "source": [
    "#Por si quieren ver una gráfica en específico más a detalle\n",
    "df.plot(kind=\"scatter\",y=\"median_salary\",x=\"average_price\",alpha=0.1)"
   ]
  },
  {
   "cell_type": "markdown",
   "metadata": {},
   "source": [
    "***"
   ]
  },
  {
   "cell_type": "markdown",
   "metadata": {},
   "source": [
    "## <span style=\"color:green\">6. Combinación de Variables </span>\n"
   ]
  },
  {
   "cell_type": "code",
   "execution_count": 104,
   "metadata": {},
   "outputs": [
    {
     "ename": "KeyError",
     "evalue": "'population_size'",
     "output_type": "error",
     "traceback": [
      "\u001b[1;31m---------------------------------------------------------------------------\u001b[0m",
      "\u001b[1;31mKeyError\u001b[0m                                  Traceback (most recent call last)",
      "File \u001b[1;32mc:\\Users\\sorac\\anaconda3\\lib\\site-packages\\pandas\\core\\indexes\\base.py:3621\u001b[0m, in \u001b[0;36mIndex.get_loc\u001b[1;34m(self, key, method, tolerance)\u001b[0m\n\u001b[0;32m   3620\u001b[0m \u001b[39mtry\u001b[39;00m:\n\u001b[1;32m-> 3621\u001b[0m     \u001b[39mreturn\u001b[39;00m \u001b[39mself\u001b[39;49m\u001b[39m.\u001b[39;49m_engine\u001b[39m.\u001b[39;49mget_loc(casted_key)\n\u001b[0;32m   3622\u001b[0m \u001b[39mexcept\u001b[39;00m \u001b[39mKeyError\u001b[39;00m \u001b[39mas\u001b[39;00m err:\n",
      "File \u001b[1;32mc:\\Users\\sorac\\anaconda3\\lib\\site-packages\\pandas\\_libs\\index.pyx:136\u001b[0m, in \u001b[0;36mpandas._libs.index.IndexEngine.get_loc\u001b[1;34m()\u001b[0m\n",
      "File \u001b[1;32mc:\\Users\\sorac\\anaconda3\\lib\\site-packages\\pandas\\_libs\\index.pyx:163\u001b[0m, in \u001b[0;36mpandas._libs.index.IndexEngine.get_loc\u001b[1;34m()\u001b[0m\n",
      "File \u001b[1;32mpandas\\_libs\\hashtable_class_helper.pxi:5198\u001b[0m, in \u001b[0;36mpandas._libs.hashtable.PyObjectHashTable.get_item\u001b[1;34m()\u001b[0m\n",
      "File \u001b[1;32mpandas\\_libs\\hashtable_class_helper.pxi:5206\u001b[0m, in \u001b[0;36mpandas._libs.hashtable.PyObjectHashTable.get_item\u001b[1;34m()\u001b[0m\n",
      "\u001b[1;31mKeyError\u001b[0m: 'population_size'",
      "\nThe above exception was the direct cause of the following exception:\n",
      "\u001b[1;31mKeyError\u001b[0m                                  Traceback (most recent call last)",
      "\u001b[1;32mc:\\Users\\sorac\\Ciencia de Datos\\Capítulo 2-Proyecto End-to-End\\Cap2.ipynb Cell 61\u001b[0m in \u001b[0;36m<cell line: 2>\u001b[1;34m()\u001b[0m\n\u001b[0;32m      <a href='vscode-notebook-cell:/c%3A/Users/sorac/Ciencia%20de%20Datos/Cap%C3%ADtulo%202-Proyecto%20End-to-End/Cap2.ipynb#Y113sZmlsZQ%3D%3D?line=0'>1</a>\u001b[0m \u001b[39m#Armar una columna para hacer las combinaciones que necesitamos\u001b[39;00m\n\u001b[1;32m----> <a href='vscode-notebook-cell:/c%3A/Users/sorac/Ciencia%20de%20Datos/Cap%C3%ADtulo%202-Proyecto%20End-to-End/Cap2.ipynb#Y113sZmlsZQ%3D%3D?line=1'>2</a>\u001b[0m df[\u001b[39m\"\u001b[39m\u001b[39mvendidas_poblacion\u001b[39m\u001b[39m\"\u001b[39m] \u001b[39m=\u001b[39m df[\u001b[39m\"\u001b[39;49m\u001b[39mpopulation_size\u001b[39;49m\u001b[39m\"\u001b[39;49m] \u001b[39m/\u001b[39m df[\u001b[39m\"\u001b[39m\u001b[39mhouses_sold\u001b[39m\u001b[39m\"\u001b[39m]\n\u001b[0;32m      <a href='vscode-notebook-cell:/c%3A/Users/sorac/Ciencia%20de%20Datos/Cap%C3%ADtulo%202-Proyecto%20End-to-End/Cap2.ipynb#Y113sZmlsZQ%3D%3D?line=2'>3</a>\u001b[0m \u001b[39m# Crear matriz de correlación\u001b[39;00m\n\u001b[0;32m      <a href='vscode-notebook-cell:/c%3A/Users/sorac/Ciencia%20de%20Datos/Cap%C3%ADtulo%202-Proyecto%20End-to-End/Cap2.ipynb#Y113sZmlsZQ%3D%3D?line=3'>4</a>\u001b[0m matriz \u001b[39m=\u001b[39m df\u001b[39m.\u001b[39mcorr(method\u001b[39m=\u001b[39m\u001b[39m'\u001b[39m\u001b[39mpearson\u001b[39m\u001b[39m'\u001b[39m)\n",
      "File \u001b[1;32mc:\\Users\\sorac\\anaconda3\\lib\\site-packages\\pandas\\core\\frame.py:3505\u001b[0m, in \u001b[0;36mDataFrame.__getitem__\u001b[1;34m(self, key)\u001b[0m\n\u001b[0;32m   3503\u001b[0m \u001b[39mif\u001b[39;00m \u001b[39mself\u001b[39m\u001b[39m.\u001b[39mcolumns\u001b[39m.\u001b[39mnlevels \u001b[39m>\u001b[39m \u001b[39m1\u001b[39m:\n\u001b[0;32m   3504\u001b[0m     \u001b[39mreturn\u001b[39;00m \u001b[39mself\u001b[39m\u001b[39m.\u001b[39m_getitem_multilevel(key)\n\u001b[1;32m-> 3505\u001b[0m indexer \u001b[39m=\u001b[39m \u001b[39mself\u001b[39;49m\u001b[39m.\u001b[39;49mcolumns\u001b[39m.\u001b[39;49mget_loc(key)\n\u001b[0;32m   3506\u001b[0m \u001b[39mif\u001b[39;00m is_integer(indexer):\n\u001b[0;32m   3507\u001b[0m     indexer \u001b[39m=\u001b[39m [indexer]\n",
      "File \u001b[1;32mc:\\Users\\sorac\\anaconda3\\lib\\site-packages\\pandas\\core\\indexes\\base.py:3623\u001b[0m, in \u001b[0;36mIndex.get_loc\u001b[1;34m(self, key, method, tolerance)\u001b[0m\n\u001b[0;32m   3621\u001b[0m     \u001b[39mreturn\u001b[39;00m \u001b[39mself\u001b[39m\u001b[39m.\u001b[39m_engine\u001b[39m.\u001b[39mget_loc(casted_key)\n\u001b[0;32m   3622\u001b[0m \u001b[39mexcept\u001b[39;00m \u001b[39mKeyError\u001b[39;00m \u001b[39mas\u001b[39;00m err:\n\u001b[1;32m-> 3623\u001b[0m     \u001b[39mraise\u001b[39;00m \u001b[39mKeyError\u001b[39;00m(key) \u001b[39mfrom\u001b[39;00m \u001b[39merr\u001b[39;00m\n\u001b[0;32m   3624\u001b[0m \u001b[39mexcept\u001b[39;00m \u001b[39mTypeError\u001b[39;00m:\n\u001b[0;32m   3625\u001b[0m     \u001b[39m# If we have a listlike key, _check_indexing_error will raise\u001b[39;00m\n\u001b[0;32m   3626\u001b[0m     \u001b[39m#  InvalidIndexError. Otherwise we fall through and re-raise\u001b[39;00m\n\u001b[0;32m   3627\u001b[0m     \u001b[39m#  the TypeError.\u001b[39;00m\n\u001b[0;32m   3628\u001b[0m     \u001b[39mself\u001b[39m\u001b[39m.\u001b[39m_check_indexing_error(key)\n",
      "\u001b[1;31mKeyError\u001b[0m: 'population_size'"
     ]
    }
   ],
   "source": [
    "#Armar una columna para hacer las combinaciones que necesitamos\n",
    "df[\"vendidas_poblacion\"] = df[\"population_size\"] / df[\"houses_sold\"]\n",
    "# Crear matriz de correlación\n",
    "matriz = df.corr(method='pearson')\n",
    "matriz[\"average_price\"].sort_values(ascending=False)"
   ]
  },
  {
   "cell_type": "markdown",
   "metadata": {},
   "source": [
    "***"
   ]
  },
  {
   "cell_type": "markdown",
   "metadata": {},
   "source": [
    "***"
   ]
  },
  {
   "cell_type": "markdown",
   "metadata": {},
   "source": [
    "## <span style=\"color:Blue\">7. Transformación de Datos </span>\n"
   ]
  },
  {
   "cell_type": "code",
   "execution_count": null,
   "metadata": {},
   "outputs": [],
   "source": [
    "# Crear Dataframe de predictores y variable a predecir ✂️\n",
    "df_label = cat_set_ent['average_price']\n",
    "#Nuevo dataframe sin average_price\n",
    "df = cat_set_ent.drop('average_price', axis=1)\n",
    "df.head()"
   ]
  },
  {
   "cell_type": "markdown",
   "metadata": {},
   "source": [
    "***"
   ]
  },
  {
   "cell_type": "code",
   "execution_count": null,
   "metadata": {},
   "outputs": [],
   "source": [
    "#Darte una idea de a qué variables le hace faltan datos\n",
    "df.info()\n",
    "#Calcular la suma de todos los vacíos  \n",
    "df.isna().sum()"
   ]
  },
  {
   "cell_type": "code",
   "execution_count": null,
   "metadata": {},
   "outputs": [],
   "source": [
    "#Quitar el número de crímenes por su alta cantidad de datos vacíos \n",
    "df=df.drop(\"no_of_crimes\", axis=1) "
   ]
  },
  {
   "cell_type": "code",
   "execution_count": null,
   "metadata": {},
   "outputs": [],
   "source": [
    "#Tomamos la media \n",
    "median = df[\"houses_sold\"].median()\n",
    "#Llenamos los valores con la media\n",
    "df['houses_sold'].fillna(median,inplace=True)  #opción 3\n",
    "#Verifica que no hay datos vacíos\n",
    "df.isna().sum()"
   ]
  },
  {
   "cell_type": "markdown",
   "metadata": {},
   "source": [
    "***"
   ]
  },
  {
   "cell_type": "markdown",
   "metadata": {},
   "source": [
    "Recuerden que volvimos a ejecutar la línea de código de \"df = cat_set_ent.drop('average_price', axis=1)\" para hacer este ejercicio"
   ]
  },
  {
   "cell_type": "code",
   "execution_count": null,
   "metadata": {},
   "outputs": [
    {
     "data": {
      "text/html": [
       "<div>\n",
       "<style scoped>\n",
       "    .dataframe tbody tr th:only-of-type {\n",
       "        vertical-align: middle;\n",
       "    }\n",
       "\n",
       "    .dataframe tbody tr th {\n",
       "        vertical-align: top;\n",
       "    }\n",
       "\n",
       "    .dataframe thead th {\n",
       "        text-align: right;\n",
       "    }\n",
       "</style>\n",
       "<table border=\"1\" class=\"dataframe\">\n",
       "  <thead>\n",
       "    <tr style=\"text-align: right;\">\n",
       "      <th></th>\n",
       "      <th>index</th>\n",
       "      <th>houses_sold</th>\n",
       "      <th>no_of_crimes</th>\n",
       "      <th>borough_flag</th>\n",
       "      <th>median_salary</th>\n",
       "      <th>population_size</th>\n",
       "      <th>life_satisfaction</th>\n",
       "    </tr>\n",
       "  </thead>\n",
       "  <tbody>\n",
       "    <tr>\n",
       "      <th>423</th>\n",
       "      <td>428.00</td>\n",
       "      <td>189.00</td>\n",
       "      <td>949.00</td>\n",
       "      <td>1.00</td>\n",
       "      <td>27,274.00</td>\n",
       "      <td>154,485.00</td>\n",
       "      <td>7.49</td>\n",
       "    </tr>\n",
       "    <tr>\n",
       "      <th>530</th>\n",
       "      <td>538.00</td>\n",
       "      <td>216.00</td>\n",
       "      <td>1,784.00</td>\n",
       "      <td>1.00</td>\n",
       "      <td>28,100.00</td>\n",
       "      <td>284,617.00</td>\n",
       "      <td>7.30</td>\n",
       "    </tr>\n",
       "    <tr>\n",
       "      <th>705</th>\n",
       "      <td>726.00</td>\n",
       "      <td>4,968.00</td>\n",
       "      <td>1,998.50</td>\n",
       "      <td>0.00</td>\n",
       "      <td>29,399.00</td>\n",
       "      <td>4,963,305.00</td>\n",
       "      <td>7.49</td>\n",
       "    </tr>\n",
       "    <tr>\n",
       "      <th>262</th>\n",
       "      <td>267.00</td>\n",
       "      <td>187.00</td>\n",
       "      <td>1,722.00</td>\n",
       "      <td>1.00</td>\n",
       "      <td>33,688.00</td>\n",
       "      <td>178,365.00</td>\n",
       "      <td>7.56</td>\n",
       "    </tr>\n",
       "    <tr>\n",
       "      <th>66</th>\n",
       "      <td>67.00</td>\n",
       "      <td>482.00</td>\n",
       "      <td>1,482.00</td>\n",
       "      <td>1.00</td>\n",
       "      <td>22,247.00</td>\n",
       "      <td>220,016.00</td>\n",
       "      <td>7.49</td>\n",
       "    </tr>\n",
       "  </tbody>\n",
       "</table>\n",
       "</div>"
      ],
      "text/plain": [
       "     index  houses_sold  no_of_crimes  borough_flag  median_salary  \\\n",
       "423 428.00       189.00        949.00          1.00      27,274.00   \n",
       "530 538.00       216.00      1,784.00          1.00      28,100.00   \n",
       "705 726.00     4,968.00      1,998.50          0.00      29,399.00   \n",
       "262 267.00       187.00      1,722.00          1.00      33,688.00   \n",
       "66   67.00       482.00      1,482.00          1.00      22,247.00   \n",
       "\n",
       "     population_size  life_satisfaction  \n",
       "423       154,485.00               7.49  \n",
       "530       284,617.00               7.30  \n",
       "705     4,963,305.00               7.49  \n",
       "262       178,365.00               7.56  \n",
       "66        220,016.00               7.49  "
      ]
     },
     "execution_count": 30,
     "metadata": {},
     "output_type": "execute_result"
    }
   ],
   "source": [
    "#BIENVENIDOS A SCIKIT <3 Serán unos expertos al final. \n",
    "# Rellenar valores con scikit\n",
    "#1. Recuerden: importar lo que vayas a utiliza, en este caso SimpleImputer\n",
    "from sklearn.impute import SimpleImputer\n",
    "\n",
    "# 2. Crear objeto, en este caso se llamará imputer\n",
    "imputer = SimpleImputer(strategy=\"median\")\n",
    "\n",
    "df.isna().sum()\n",
    "df= df.drop([\"no_of_crimes\"],axis=1)\n",
    "df.info()\n",
    "\n",
    "# data numérico\n",
    "df_num = df.drop([\"area\",\"date\",\"code\"],axis=1)\n",
    "\n",
    "#Ejecuta Imputer\n",
    "imputer.fit(df_num)\n",
    "\n",
    "#Aplicar transform para rellenar las medianas \n",
    "X = imputer.transform(df_num)\n",
    "\n",
    "#Regresarlo a dataframe \n",
    "df_tr = pd.DataFrame(X, columns=df_num.columns, index=df_num.index)\n",
    "df_tr.head()"
   ]
  },
  {
   "cell_type": "markdown",
   "metadata": {},
   "source": [
    "***"
   ]
  },
  {
   "cell_type": "markdown",
   "metadata": {},
   "source": [
    "## <span style=\"color:Blue\">8. Manejo de texto y valores categóricos </span>"
   ]
  },
  {
   "cell_type": "code",
   "execution_count": null,
   "metadata": {},
   "outputs": [
    {
     "data": {
      "text/plain": [
       "array([[23.],\n",
       "       [32.],\n",
       "       [31.],\n",
       "       [14.],\n",
       "       [ 2.],\n",
       "       [36.],\n",
       "       [13.],\n",
       "       [40.],\n",
       "       [ 0.],\n",
       "       [ 7.]])"
      ]
     },
     "execution_count": 32,
     "metadata": {},
     "output_type": "execute_result"
    }
   ],
   "source": [
    "#definir que variable vamos a cambiar a valor numérico\n",
    "df_cat=df[[\"area\"]]\n",
    "#Convertir variables de texto en numéricas\n",
    "from sklearn.preprocessing import OrdinalEncoder\n",
    "\n",
    "ordinal_encoder = OrdinalEncoder()\n",
    "df_oe = ordinal_encoder.fit_transform(df_cat)\n",
    "#verificar que si se haya transformado\n",
    "df_oe[0:10]\n",
    "\n",
    "#Por si quieres ver como funciona el encoder\n",
    "ordinal.encoder.categories_"
   ]
  },
  {
   "cell_type": "code",
   "execution_count": null,
   "metadata": {},
   "outputs": [
    {
     "data": {
      "text/plain": [
       "array([[0., 0., 0., ..., 0., 0., 0.],\n",
       "       [0., 0., 0., ..., 0., 0., 0.],\n",
       "       [0., 0., 0., ..., 0., 0., 0.],\n",
       "       ...,\n",
       "       [0., 0., 0., ..., 0., 0., 0.],\n",
       "       [0., 0., 0., ..., 0., 0., 0.],\n",
       "       [0., 0., 0., ..., 0., 0., 0.]])"
      ]
     },
     "execution_count": 33,
     "metadata": {},
     "output_type": "execute_result"
    }
   ],
   "source": [
    "#ONE HOT ENCODER, es importante recordar y entender esta función porque la usaremos en todo el curso\n",
    "#Convertir variables categóricas en binarias\n",
    "#Importar OneHotEncoder\n",
    "from sklearn.preprocessing import OneHotEncoder\n",
    "#Crear objeto\n",
    "encoder = OneHotEncoder()\n",
    "#Ajustar\n",
    "df_1hot = encoder.fit_transform(df_cat)\n",
    "#obligar a que nos muestre la matriz \n",
    "df_1hot.toarray()"
   ]
  },
  {
   "cell_type": "markdown",
   "metadata": {},
   "source": [
    "***"
   ]
  },
  {
   "cell_type": "markdown",
   "metadata": {},
   "source": [
    "## <span style=\"color:Blue\">9. Escalación de variables </span>\n"
   ]
  },
  {
   "cell_type": "markdown",
   "metadata": {},
   "source": [
    "#### <span style=\"color:Blue\">9.1 Normalización </span>"
   ]
  },
  {
   "cell_type": "code",
   "execution_count": null,
   "metadata": {},
   "outputs": [
    {
     "data": {
      "text/html": [
       "<div>\n",
       "<style scoped>\n",
       "    .dataframe tbody tr th:only-of-type {\n",
       "        vertical-align: middle;\n",
       "    }\n",
       "\n",
       "    .dataframe tbody tr th {\n",
       "        vertical-align: top;\n",
       "    }\n",
       "\n",
       "    .dataframe thead th {\n",
       "        text-align: right;\n",
       "    }\n",
       "</style>\n",
       "<table border=\"1\" class=\"dataframe\">\n",
       "  <thead>\n",
       "    <tr style=\"text-align: right;\">\n",
       "      <th></th>\n",
       "      <th>col1</th>\n",
       "      <th>col2</th>\n",
       "      <th>col3</th>\n",
       "    </tr>\n",
       "  </thead>\n",
       "  <tbody>\n",
       "    <tr>\n",
       "      <th>0</th>\n",
       "      <td>0.00</td>\n",
       "      <td>0.00</td>\n",
       "      <td>0.00</td>\n",
       "    </tr>\n",
       "    <tr>\n",
       "      <th>1</th>\n",
       "      <td>0.11</td>\n",
       "      <td>0.00</td>\n",
       "      <td>0.83</td>\n",
       "    </tr>\n",
       "    <tr>\n",
       "      <th>2</th>\n",
       "      <td>0.22</td>\n",
       "      <td>0.50</td>\n",
       "      <td>0.92</td>\n",
       "    </tr>\n",
       "    <tr>\n",
       "      <th>3</th>\n",
       "      <td>1.00</td>\n",
       "      <td>1.00</td>\n",
       "      <td>1.00</td>\n",
       "    </tr>\n",
       "  </tbody>\n",
       "</table>\n",
       "</div>"
      ],
      "text/plain": [
       "   col1  col2  col3\n",
       "0  0.00  0.00  0.00\n",
       "1  0.11  0.00  0.83\n",
       "2  0.22  0.50  0.92\n",
       "3  1.00  1.00  1.00"
      ]
     },
     "execution_count": 37,
     "metadata": {},
     "output_type": "execute_result"
    }
   ],
   "source": [
    "#Importar MinMaxScaler\n",
    "from sklearn.preprocessing import MinMaxScaler\n",
    "#Creamos el objeto \n",
    "scaler = MinMaxScaler()\n",
    "#Hacer un dataframe con la transformación\n",
    "pd.DataFrame(scaler.fit_transform(prueba),columns=prueba.columns,index=prueba.index)"
   ]
  },
  {
   "cell_type": "markdown",
   "metadata": {},
   "source": [
    "#### <span style=\"color:Blue\">9.2 Estandarización </span>"
   ]
  },
  {
   "cell_type": "code",
   "execution_count": null,
   "metadata": {},
   "outputs": [
    {
     "data": {
      "text/html": [
       "<div>\n",
       "<style scoped>\n",
       "    .dataframe tbody tr th:only-of-type {\n",
       "        vertical-align: middle;\n",
       "    }\n",
       "\n",
       "    .dataframe tbody tr th {\n",
       "        vertical-align: top;\n",
       "    }\n",
       "\n",
       "    .dataframe thead th {\n",
       "        text-align: right;\n",
       "    }\n",
       "</style>\n",
       "<table border=\"1\" class=\"dataframe\">\n",
       "  <thead>\n",
       "    <tr style=\"text-align: right;\">\n",
       "      <th></th>\n",
       "      <th>col1</th>\n",
       "      <th>col2</th>\n",
       "      <th>col3</th>\n",
       "    </tr>\n",
       "  </thead>\n",
       "  <tbody>\n",
       "    <tr>\n",
       "      <th>0</th>\n",
       "      <td>-0.85</td>\n",
       "      <td>-0.90</td>\n",
       "      <td>-1.71</td>\n",
       "    </tr>\n",
       "    <tr>\n",
       "      <th>1</th>\n",
       "      <td>-0.57</td>\n",
       "      <td>-0.90</td>\n",
       "      <td>0.36</td>\n",
       "    </tr>\n",
       "    <tr>\n",
       "      <th>2</th>\n",
       "      <td>-0.28</td>\n",
       "      <td>0.30</td>\n",
       "      <td>0.57</td>\n",
       "    </tr>\n",
       "    <tr>\n",
       "      <th>3</th>\n",
       "      <td>1.70</td>\n",
       "      <td>1.51</td>\n",
       "      <td>0.78</td>\n",
       "    </tr>\n",
       "  </tbody>\n",
       "</table>\n",
       "</div>"
      ],
      "text/plain": [
       "   col1  col2  col3\n",
       "0 -0.85 -0.90 -1.71\n",
       "1 -0.57 -0.90  0.36\n",
       "2 -0.28  0.30  0.57\n",
       "3  1.70  1.51  0.78"
      ]
     },
     "execution_count": 38,
     "metadata": {},
     "output_type": "execute_result"
    }
   ],
   "source": [
    "## Estandarización (Es el más ultizado)\n",
    "#Importar StandardScaler (presten especial atención a StandardScaler lo estaremos viendo muy seguido) \n",
    "from sklearn.preprocessing import StandardScaler\n",
    "#Crea objeto\n",
    "scaler = StandardScaler()\n",
    "#Hacer un dataframe con la transformación\n",
    "pd.DataFrame(scaler.fit_transform(prueba),columns=prueba.columns,index=prueba.index)"
   ]
  },
  {
   "cell_type": "markdown",
   "metadata": {},
   "source": [
    "***"
   ]
  },
  {
   "cell_type": "markdown",
   "metadata": {},
   "source": [
    "## <span style=\"color:Blue\">10. Pipeline </span>\n"
   ]
  },
  {
   "cell_type": "code",
   "execution_count": null,
   "metadata": {},
   "outputs": [
    {
     "data": {
      "text/html": [
       "<div>\n",
       "<style scoped>\n",
       "    .dataframe tbody tr th:only-of-type {\n",
       "        vertical-align: middle;\n",
       "    }\n",
       "\n",
       "    .dataframe tbody tr th {\n",
       "        vertical-align: top;\n",
       "    }\n",
       "\n",
       "    .dataframe thead th {\n",
       "        text-align: right;\n",
       "    }\n",
       "</style>\n",
       "<table border=\"1\" class=\"dataframe\">\n",
       "  <thead>\n",
       "    <tr style=\"text-align: right;\">\n",
       "      <th></th>\n",
       "      <th>col1</th>\n",
       "      <th>col2</th>\n",
       "      <th>col3</th>\n",
       "    </tr>\n",
       "  </thead>\n",
       "  <tbody>\n",
       "    <tr>\n",
       "      <th>0</th>\n",
       "      <td>-1.41</td>\n",
       "      <td>-0.90</td>\n",
       "      <td>0.00</td>\n",
       "    </tr>\n",
       "    <tr>\n",
       "      <th>1</th>\n",
       "      <td>0.00</td>\n",
       "      <td>-0.90</td>\n",
       "      <td>-1.41</td>\n",
       "    </tr>\n",
       "    <tr>\n",
       "      <th>2</th>\n",
       "      <td>1.41</td>\n",
       "      <td>0.30</td>\n",
       "      <td>0.00</td>\n",
       "    </tr>\n",
       "    <tr>\n",
       "      <th>3</th>\n",
       "      <td>0.00</td>\n",
       "      <td>1.51</td>\n",
       "      <td>1.41</td>\n",
       "    </tr>\n",
       "  </tbody>\n",
       "</table>\n",
       "</div>"
      ],
      "text/plain": [
       "   col1  col2  col3\n",
       "0 -1.41 -0.90  0.00\n",
       "1  0.00 -0.90 -1.41\n",
       "2  1.41  0.30  0.00\n",
       "3  0.00  1.51  1.41"
      ]
     },
     "execution_count": 39,
     "metadata": {},
     "output_type": "execute_result"
    }
   ],
   "source": [
    "# Crear función de pipeline\n",
    "from sklearn.pipeline import Pipeline\n",
    "pipeline = Pipeline([(\"remover\",RemoverOutliers()),\n",
    "                      (\"rellenar\",SimpleImputer(strategy=\"median\")),\n",
    "                       (\"escalar\",StandardScaler())])\n",
    "pd.DataFrame(pipeline.fit_transform(prueba),columns=prueba.columns,index=prueba.index)"
   ]
  },
  {
   "cell_type": "code",
   "execution_count": null,
   "metadata": {},
   "outputs": [
    {
     "data": {
      "text/plain": [
       "<616x50 sparse matrix of type '<class 'numpy.float64'>'\n",
       "\twith 4312 stored elements in Compressed Sparse Row format>"
      ]
     },
     "execution_count": 40,
     "metadata": {},
     "output_type": "execute_result"
    }
   ],
   "source": [
    "# Column Transformer (nos permite transformar varias columnas al mismo tiempo y luego juntarlas)\n",
    "from sklearn.compose import ColumnTransformer\n",
    "num = list(df_num)\n",
    "cat = [\"area\"]\n",
    "\n",
    "pipeline_completo = ColumnTransformer([\n",
    "    (\"num\", pipeline, num),\n",
    "    (\"cat\", OneHotEncoder(), cat)\n",
    "])\n",
    "#Hacer un datframe que usaremos para la regresión linea\n",
    "df_preparado = pipeline_completo.fit_transform(df)\n",
    "#Visualiza los datos \n",
    "df_preparado"
   ]
  },
  {
   "cell_type": "markdown",
   "metadata": {},
   "source": [
    "***"
   ]
  },
  {
   "cell_type": "markdown",
   "metadata": {},
   "source": [
    "***"
   ]
  },
  {
   "cell_type": "markdown",
   "metadata": {},
   "source": [
    "## <span style=\"color:purple\">11. Seleccionar y entrenar modelos </span>"
   ]
  },
  {
   "cell_type": "code",
   "execution_count": null,
   "metadata": {},
   "outputs": [
    {
     "name": "stdout",
     "output_type": "stream",
     "text": [
      "Predicción: [281632.05824791 329634.56384255 298163.31447407 606362.11721413\n",
      " 109502.04909917]\n",
      "\n",
      "Originales: [325149, 264683, 260790, 735096, 169878]\n"
     ]
    }
   ],
   "source": [
    "## Hacer Regresión Lineal (AL FIN)\n",
    "from sklearn.linear_model import LinearRegression\n",
    "reg_lin = LinearRegression()\n",
    "reg_lin.fit(df_preparado, df_label)\n",
    "\n",
    "algunos_datos = df.iloc[:5]\n",
    "datos_predecir = df_label.iloc[:5]\n",
    "datos_transformados = pipeline_completo.transform(algunos_datos)\n",
    "print(\"Predicción:\",reg_lin.predict(datos_transformados))\n",
    "print(\"\\nOriginales:\",list(datos_predecir))"
   ]
  },
  {
   "cell_type": "code",
   "execution_count": null,
   "metadata": {},
   "outputs": [],
   "source": [
    "#Análisis preambultario de los errores\n",
    "algunos_datos=df.iloc[:5]\n",
    "dato_predecir=df_label.iloc[:5]\n",
    "datos_transformados=pipeline_completo.transform(algunos_datos)\n",
    "\n",
    "vp=list(reg_lin.predict(datos_transformados))\n",
    "vr=list(dato_predecir)\n",
    "\n",
    "vp=pd.Series(vp)\n",
    "vr=pd.Series(vr)\n",
    "\n",
    "\n",
    "abs((vr-vp)/vr).mean()"
   ]
  },
  {
   "cell_type": "markdown",
   "metadata": {},
   "source": [
    "***"
   ]
  },
  {
   "cell_type": "markdown",
   "metadata": {},
   "source": [
    "#### <span style=\"color:purple\">11.1 RMSE </span>"
   ]
  },
  {
   "cell_type": "code",
   "execution_count": null,
   "metadata": {},
   "outputs": [
    {
     "data": {
      "text/plain": [
       "69648.95465707427"
      ]
     },
     "execution_count": 42,
     "metadata": {},
     "output_type": "execute_result"
    }
   ],
   "source": [
    "# Calcular el promedio de la suma de los errores al cuadrado RMSE\n",
    "from sklearn.metrics import mean_squared_error\n",
    "prediccion = reg_lin.predict(df_preparado)\n",
    "error = mean_squared_error(df_label,prediccion)\n",
    "error = np.sqrt(error)\n",
    "error"
   ]
  },
  {
   "cell_type": "code",
   "execution_count": null,
   "metadata": {},
   "outputs": [],
   "source": [
    "#Sacar el promedio \n",
    "df_label.mean()"
   ]
  },
  {
   "cell_type": "code",
   "execution_count": null,
   "metadata": {},
   "outputs": [],
   "source": [
    "#Calcular el porcentaje de acierto\n",
    "error/df.label.mean()"
   ]
  },
  {
   "cell_type": "markdown",
   "metadata": {},
   "source": [
    "***"
   ]
  },
  {
   "cell_type": "markdown",
   "metadata": {},
   "source": [
    "#### <span style=\"color:purple\">11.2 Árbol de Decisión </span>"
   ]
  },
  {
   "cell_type": "code",
   "execution_count": null,
   "metadata": {},
   "outputs": [
    {
     "data": {
      "text/plain": [
       "0.0"
      ]
     },
     "execution_count": 43,
     "metadata": {},
     "output_type": "execute_result"
    }
   ],
   "source": [
    "# importar DecisionTreeRegressor\n",
    "from sklearn.tree import DecisionTreeRegressor\n",
    "#crear objeto \n",
    "reg_arbol = DecisionTreeRegressor()\n",
    "#correrlo\n",
    "reg_arbol.fit(df_preparado,df_label)\n",
    "prediccion = reg_arbol.predict(df_preparado)\n",
    "#calcular el error\n",
    "error = mean_squared_error(df_label,prediccion)\n",
    "error = np.sqrt(error)\n",
    "error"
   ]
  },
  {
   "cell_type": "markdown",
   "metadata": {},
   "source": [
    "***"
   ]
  },
  {
   "cell_type": "markdown",
   "metadata": {},
   "source": [
    "#### <span style=\"color:purple\">11.3 Validación Cruzada </span>\n",
    "\n",
    "¡Anota esto porque es importante!"
   ]
  },
  {
   "cell_type": "code",
   "execution_count": null,
   "metadata": {},
   "outputs": [
    {
     "data": {
      "text/plain": [
       "array([ 81152.99900288,  79860.52917703,  80244.29104656,  93073.68206669,\n",
       "        86437.53162992,  89395.95875915,  65275.6092458 , 101352.52796915,\n",
       "        77235.11214202,  75021.7125984 ])"
      ]
     },
     "execution_count": 44,
     "metadata": {},
     "output_type": "execute_result"
    }
   ],
   "source": [
    "#Importar cross_val_score, creo objeto, corro mi función\n",
    "from sklearn.model_selection import cross_val_score\n",
    "resultados = cross_val_score(reg_arbol, df_preparado, df_label, scoring=\"neg_mean_squared_error\",cv = 10)\n",
    "rmse = np.sqrt(-resultados)\n",
    "rmse"
   ]
  },
  {
   "cell_type": "code",
   "execution_count": null,
   "metadata": {},
   "outputs": [],
   "source": [
    "#Calcular el porcentaje de acierto de validación cruzada \n",
    "rmse.mean()/df.label.mean()"
   ]
  },
  {
   "cell_type": "markdown",
   "metadata": {},
   "source": [
    "***"
   ]
  },
  {
   "cell_type": "markdown",
   "metadata": {},
   "source": [
    "#### <span style=\"color:purple\">11.4 Bosque Aleatorio </span>\n",
    "¡Este también es importante!"
   ]
  },
  {
   "cell_type": "code",
   "execution_count": null,
   "metadata": {},
   "outputs": [
    {
     "data": {
      "text/plain": [
       "24838.769350329345"
      ]
     },
     "execution_count": 45,
     "metadata": {},
     "output_type": "execute_result"
    }
   ],
   "source": [
    "#Importar RandomForestRegressor, creo objeto, corro mi función\n",
    "from sklearn.ensemble import RandomForestRegressor\n",
    "reg_forest = RandomForestRegressor()\n",
    "reg_forest.fit(df_preparado,df_label)\n",
    "prediccion = reg_forest.predict(df_preparado)\n",
    "\n",
    "#calcular el error\n",
    "error = mean_squared_error(df_label,prediccion)\n",
    "error = np.sqrt(error)\n",
    "error"
   ]
  },
  {
   "cell_type": "code",
   "execution_count": null,
   "metadata": {},
   "outputs": [
    {
     "data": {
      "text/plain": [
       "array([47814.09847591, 83134.34275611, 81844.91753033, 81354.22394047,\n",
       "       75023.99004171, 59732.58011936, 54543.74002162, 77279.76630814,\n",
       "       73867.61654416, 69911.35928519])"
      ]
     },
     "execution_count": 46,
     "metadata": {},
     "output_type": "execute_result"
    }
   ],
   "source": [
    "#Calcular el el promedio de la suma de los errores al cuadrado\n",
    "resultados = cross_val_score(reg_forest, df_preparado, df_label, scoring=\"neg_mean_squared_error\",cv = 10)\n",
    "rmse = np.sqrt(-resultados)\n",
    "rmse"
   ]
  },
  {
   "cell_type": "code",
   "execution_count": null,
   "metadata": {},
   "outputs": [],
   "source": [
    "#Calcular el porcentaje de acierto de bosque aleatorio\n",
    "rmse.mean()/df.label.mean()"
   ]
  },
  {
   "cell_type": "markdown",
   "metadata": {},
   "source": [
    "***"
   ]
  },
  {
   "cell_type": "markdown",
   "metadata": {},
   "source": [
    "## <span style=\"color:purple\">12. Afinar el modelo </span>"
   ]
  },
  {
   "cell_type": "markdown",
   "metadata": {},
   "source": [
    "### <span style=\"color:purple\">12.1 Grid Search</span>"
   ]
  },
  {
   "cell_type": "code",
   "execution_count": null,
   "metadata": {},
   "outputs": [
    {
     "data": {
      "text/plain": [
       "78449.26669212103"
      ]
     },
     "execution_count": 54,
     "metadata": {},
     "output_type": "execute_result"
    }
   ],
   "source": [
    "#Importar GridSearchCV\n",
    "from sklearn.model_selection import GridSearchCV\n",
    "param_grid = [{\n",
    "    'n_estimators': [3,10,30], 'max_features': [2,4,6,8]\n",
    "}]\n",
    "grid_search = GridSearchCV(reg_forest,param_grid,cv=5,scoring='neg_mean_squared_error',return_train_score=True)\n",
    "grid_search.fit(df_preparado,df_label)\n",
    "#Calcular el mejor parámetro\n",
    "grid_search.best_params_\n",
    "#Ver el error\n",
    "np.sqrt(-grid_search.best_score_)"
   ]
  },
  {
   "cell_type": "markdown",
   "metadata": {},
   "source": [
    "***"
   ]
  },
  {
   "cell_type": "markdown",
   "metadata": {},
   "source": [
    "### <span style=\"color:purple\">12.2 set de prueba</span>"
   ]
  },
  {
   "cell_type": "code",
   "execution_count": null,
   "metadata": {},
   "outputs": [
    {
     "name": "stderr",
     "output_type": "stream",
     "text": [
      "<ipython-input-55-073897bfe988>:11: RuntimeWarning: invalid value encountered in sqrt\n",
      "  rmse = np.sqrt(-mse_final)\n"
     ]
    },
    {
     "data": {
      "text/plain": [
       "67974.22116656683"
      ]
     },
     "execution_count": 55,
     "metadata": {},
     "output_type": "execute_result"
    }
   ],
   "source": [
    "#¡AHORA SI! A utilizar el set de prueba. Es la última parte \n",
    "\n",
    "#Define cuál es el modelo final \n",
    "modelo_final = grid_search.best_estimator_\n",
    "\n",
    "#Aquí definimos cuál será nuestra variable a predecir y las predichas \n",
    "Y = cat_set_prueba[\"average_price\"].copy()\n",
    "X = cat_set_prueba.drop(\"average_price\",axis=1)\n",
    "\n",
    "#Ahora, sí. El pipeline para limpieza de datos \n",
    "X_preparada = pipeline_completo.transform(X)\n",
    "prediccion_final = modelo_final.predict(X_preparada)\n",
    "\n",
    "#Por último, ver el error del modelo \n",
    "mse_final = mean_squared_error(Y, prediccion_final)\n",
    "rmse = np.sqrt(-mse_final)\n",
    "np.sqrt(mse_final)"
   ]
  },
  {
   "cell_type": "code",
   "execution_count": null,
   "metadata": {},
   "outputs": [],
   "source": [
    "#Ver el porcentaje de acierto\n",
    "rmse/Y.mean()"
   ]
  }
 ],
 "metadata": {
  "kernelspec": {
   "display_name": "Python 3.9.12 ('base')",
   "language": "python",
   "name": "python3"
  },
  "language_info": {
   "codemirror_mode": {
    "name": "ipython",
    "version": 3
   },
   "file_extension": ".py",
   "mimetype": "text/x-python",
   "name": "python",
   "nbconvert_exporter": "python",
   "pygments_lexer": "ipython3",
   "version": "3.9.12"
  },
  "vscode": {
   "interpreter": {
    "hash": "bd16a3e6d1e251745d99114834353e169946241024d260c00045361f3e1fb43b"
   }
  }
 },
 "nbformat": 4,
 "nbformat_minor": 4
}
